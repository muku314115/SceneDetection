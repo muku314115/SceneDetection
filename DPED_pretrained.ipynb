{
  "nbformat": 4,
  "nbformat_minor": 0,
  "metadata": {
    "colab": {
      "name": "DPED_pretrained",
      "provenance": [],
      "authorship_tag": "ABX9TyPdBafYiL14tcSNNl4d9Erc",
      "include_colab_link": true
    },
    "kernelspec": {
      "name": "python3",
      "display_name": "Python 3"
    }
  },
  "cells": [
    {
      "cell_type": "markdown",
      "metadata": {
        "id": "view-in-github",
        "colab_type": "text"
      },
      "source": [
        "<a href=\"https://colab.research.google.com/github/MukundIsGod/SceneDetection/blob/master/DPED_pretrained.ipynb\" target=\"_parent\"><img src=\"https://colab.research.google.com/assets/colab-badge.svg\" alt=\"Open In Colab\"/></a>"
      ]
    },
    {
      "cell_type": "code",
      "metadata": {
        "colab": {
          "base_uri": "https://localhost:8080/"
        },
        "id": "v5mDTS62IzMu",
        "outputId": "6cdd9981-7d76-463b-eefc-0e0b9c833339"
      },
      "source": [
        "!git clone https://github.com/aiff22/DPED"
      ],
      "execution_count": 1,
      "outputs": [
        {
          "output_type": "stream",
          "text": [
            "Cloning into 'DPED'...\n",
            "remote: Enumerating objects: 18, done.\u001b[K\n",
            "remote: Counting objects: 100% (18/18), done.\u001b[K\n",
            "remote: Compressing objects: 100% (17/17), done.\u001b[K\n",
            "remote: Total 48 (delta 7), reused 2 (delta 1), pack-reused 30\u001b[K\n",
            "Unpacking objects: 100% (48/48), done.\n"
          ],
          "name": "stdout"
        }
      ]
    },
    {
      "cell_type": "code",
      "metadata": {
        "colab": {
          "base_uri": "https://localhost:8080/"
        },
        "id": "gEnLvzmUI479",
        "outputId": "c9f1f1b7-4777-4db9-a31f-05052d3360b6"
      },
      "source": [
        "from google.colab import drive\r\n",
        "drive.mount('/content/drive')"
      ],
      "execution_count": 5,
      "outputs": [
        {
          "output_type": "stream",
          "text": [
            "Drive already mounted at /content/drive; to attempt to forcibly remount, call drive.mount(\"/content/drive\", force_remount=True).\n"
          ],
          "name": "stdout"
        }
      ]
    },
    {
      "cell_type": "code",
      "metadata": {
        "colab": {
          "base_uri": "https://localhost:8080/"
        },
        "id": "_X7PlgEgJ4vz",
        "outputId": "b6cca94f-3c1d-4f17-d18b-b94055ea2325"
      },
      "source": [
        "#Change the test_dir to whatever you want and change the saver.restore path to the correct path of the pretrained model\r\n",
        "#Change visual_results path\r\n",
        "!python '/content/DPED/test_model.py' model=iphone_orig \\\r\n",
        "                     test_subset=full \\"
      ],
      "execution_count": 6,
      "outputs": [
        {
          "output_type": "stream",
          "text": [
            "2021-03-18 04:46:06.617954: I tensorflow/stream_executor/platform/default/dso_loader.cc:49] Successfully opened dynamic library libcudart.so.11.0\n",
            "WARNING:tensorflow:From /usr/local/lib/python3.7/dist-packages/tensorflow/python/compat/v2_compat.py:96: disable_resource_variables (from tensorflow.python.ops.variable_scope) is deprecated and will be removed in a future version.\n",
            "Instructions for updating:\n",
            "non-resource variables are not supported in the long term\n",
            "2021-03-18 04:46:08.815035: I tensorflow/compiler/jit/xla_cpu_device.cc:41] Not creating XLA devices, tf_xla_enable_xla_devices not set\n",
            "2021-03-18 04:46:08.816195: I tensorflow/stream_executor/platform/default/dso_loader.cc:49] Successfully opened dynamic library libcuda.so.1\n",
            "2021-03-18 04:46:08.827623: E tensorflow/stream_executor/cuda/cuda_driver.cc:328] failed call to cuInit: CUDA_ERROR_NO_DEVICE: no CUDA-capable device is detected\n",
            "2021-03-18 04:46:08.827685: I tensorflow/stream_executor/cuda/cuda_diagnostics.cc:156] kernel driver does not appear to be running on this host (fe095831e525): /proc/driver/nvidia/version does not exist\n",
            "2021-03-18 04:46:08.828306: I tensorflow/compiler/jit/xla_gpu_device.cc:99] Not creating XLA devices, tf_xla_enable_xla_devices not set\n",
            "2021-03-18 04:46:08.957069: I tensorflow/compiler/mlir/mlir_graph_optimization_pass.cc:196] None of the MLIR optimization passes are enabled (registered 0 passes)\n",
            "2021-03-18 04:46:08.961379: I tensorflow/core/platform/profile_utils/cpu_utils.cc:112] CPU Frequency: 2299995000 Hz\n",
            "Testing original iphone model, processing image 2015_02178.jpg\n",
            "tcmalloc: large alloc 3059138560 bytes == 0x56248ee76000 @  0x7f6113ff11e7 0x7f60e1788605 0x7f60e1f79295 0x7f60e2e8e51a 0x7f60e2f02bba 0x7f60e2f0478b 0x7f60e2f0523e 0x7f60e2f78dc1 0x7f60e2f7943c 0x7f60e2f7a7cc 0x7f60dc74fbb0 0x7f60e08e0481 0x7f60e08dd173 0x7f60dc8082d5 0x7f6113da66db 0x7f6112edb71f\n",
            "tcmalloc: large alloc 7247912960 bytes == 0x5624bee76000 @  0x7f6113ff11e7 0x7f60e1788605 0x7f60e1f79295 0x7f60e2e8e51a 0x7f60e2f02bba 0x7f60e2f0478b 0x7f60e2f0523e 0x7f60e2f78dc1 0x7f60e2f7943c 0x7f60e2f7a7cc 0x7f60dc74fbb0 0x7f60e08e0481 0x7f60e08dd173 0x7f60dc8082d5 0x7f6113da66db 0x7f6112edb71f\n",
            "tcmalloc: large alloc 7247912960 bytes == 0x56251ee76000 @  0x7f6113ff11e7 0x7f60e1788605 0x7f60e1f79295 0x7f60e2e8e51a 0x7f60e2f02bba 0x7f60e2f0478b 0x7f60e2f0523e 0x7f60e2f78dc1 0x7f60e2f7943c 0x7f60e2f7a7cc 0x7f60dc74fbb0 0x7f60e08e0481 0x7f60e08dd173 0x7f60dc8082d5 0x7f6113da66db 0x7f6112edb71f\n",
            "tcmalloc: large alloc 7247912960 bytes == 0x5624bee76000 @  0x7f6113ff11e7 0x7f60e1788605 0x7f60e1f79295 0x7f60e2e8e51a 0x7f60e2f02bba 0x7f60e2f0478b 0x7f60e2f0523e 0x7f60e2f78dc1 0x7f60e2f7943c 0x7f60e2f7a7cc 0x7f60dc74fbb0 0x7f60e08e0481 0x7f60e08dd173 0x7f60dc8082d5 0x7f6113da66db 0x7f6112edb71f\n",
            "tcmalloc: large alloc 7247912960 bytes == 0x5624eee76000 @  0x7f6113ff11e7 0x7f60e1788605 0x7f60e1f79295 0x7f60e2e8e51a 0x7f60e2f02bba 0x7f60e2f0478b 0x7f60e2f0523e 0x7f60e2f78dc1 0x7f60e2f7943c 0x7f60e2f7a7cc 0x7f60dc74fbb0 0x7f60e08e0481 0x7f60e08dd173 0x7f60dc8082d5 0x7f6113da66db 0x7f6112edb71f\n",
            "tcmalloc: large alloc 7247912960 bytes == 0x56251ee76000 @  0x7f6113ff11e7 0x7f60e1788605 0x7f60e1f79295 0x7f60e2e8e51a 0x7f60e2f02bba 0x7f60e2f0478b 0x7f60e2f0523e 0x7f60e2f78dc1 0x7f60e2f7943c 0x7f60e2f7a7cc 0x7f60dc74fbb0 0x7f60e08e0481 0x7f60e08dd173 0x7f60dc8082d5 0x7f6113da66db 0x7f6112edb71f\n",
            "tcmalloc: large alloc 7247912960 bytes == 0x56251ee76000 @  0x7f6113ff11e7 0x7f60e1788605 0x7f60e1f79295 0x7f60e2e8e51a 0x7f60e2f02bba 0x7f60e2f0478b 0x7f60e2f0523e 0x7f60e2f78dc1 0x7f60e2f7943c 0x7f60e2f7a7cc 0x7f60dc74fbb0 0x7f60e08e0481 0x7f60e08dd173 0x7f60dc8082d5 0x7f6113da66db 0x7f6112edb71f\n",
            "tcmalloc: large alloc 7247912960 bytes == 0x5624bee76000 @  0x7f6113ff11e7 0x7f60e1788605 0x7f60e1f79295 0x7f60e2e8e51a 0x7f60e2f02bba 0x7f60e2f0478b 0x7f60e2f0523e 0x7f60e2f78dc1 0x7f60e2f7943c 0x7f60e2f7a7cc 0x7f60dc74fbb0 0x7f60e08e0481 0x7f60e08dd173 0x7f60dc8082d5 0x7f6113da66db 0x7f6112edb71f\n",
            "tcmalloc: large alloc 7247912960 bytes == 0x5624eee76000 @  0x7f6113ff11e7 0x7f60e1788605 0x7f60e1f79295 0x7f60e2e8e51a 0x7f60e2f02bba 0x7f60e2f0478b 0x7f60e2f0523e 0x7f60e2f78dc1 0x7f60e2f7943c 0x7f60e2f7a7cc 0x7f60dc74fbb0 0x7f60e08e0481 0x7f60e08dd173 0x7f60dc8082d5 0x7f6113da66db 0x7f6112edb71f\n",
            "tcmalloc: large alloc 7247912960 bytes == 0x56251ee76000 @  0x7f6113ff11e7 0x7f60e1788605 0x7f60e1f79295 0x7f60e2e8e51a 0x7f60e2f02bba 0x7f60e2f0478b 0x7f60e2f0523e 0x7f60e2f78dc1 0x7f60e2f7943c 0x7f60e2f7a7cc 0x7f60dc74fbb0 0x7f60e08e0481 0x7f60e08dd173 0x7f60dc8082d5 0x7f6113da66db 0x7f6112edb71f\n",
            "tcmalloc: large alloc 7247912960 bytes == 0x5624bee76000 @  0x7f6113ff11e7 0x7f60e1788605 0x7f60e1f79295 0x7f60e2e8e51a 0x7f60e2f02bba 0x7f60e2f0478b 0x7f60e2f0523e 0x7f60e2f78dc1 0x7f60e2f7943c 0x7f60e2f7a7cc 0x7f60dc74fbb0 0x7f60e08e0481 0x7f60e08dd173 0x7f60dc8082d5 0x7f6113da66db 0x7f6112edb71f\n",
            "tcmalloc: large alloc 7247765504 bytes == 0x5624bee76000 @  0x7f6113ff11e7 0x7f60e1788605 0x7f60e1f79295 0x7f60e2e8e51a 0x7f60e2f02bba 0x7f60e2f0478b 0x7f60e2f0523e 0x7f60e2f78dc1 0x7f60e2f7943c 0x7f60e2f7a7cc 0x7f60dc74fbb0 0x7f60e08e0481 0x7f60e08dd173 0x7f60dc8082d5 0x7f6113da66db 0x7f6112edb71f\n",
            "WARNING:root:Lossy conversion from float32 to uint8. Range [-0.07785254716873169, 1.063220500946045]. Convert image to uint8 prior to saving to suppress this warning.\n",
            "WARNING:root:Lossy conversion from float32 to uint8. Range [-0.07785254716873169, 1.063220500946045]. Convert image to uint8 prior to saving to suppress this warning.\n",
            "Testing original iphone model, processing image 2015_02144.jpg\n",
            "tcmalloc: large alloc 7247912960 bytes == 0x5624c5a76000 @  0x7f6113ff11e7 0x7f60e1788605 0x7f60e1f79295 0x7f60e2e8e51a 0x7f60e2f02bba 0x7f60e2f0478b 0x7f60e2f0523e 0x7f60e2f78dc1 0x7f60e2f7943c 0x7f60e2f7a7cc 0x7f60dc74fbb0 0x7f60e08e0481 0x7f60e08dd173 0x7f60dc8082d5 0x7f6113da66db 0x7f6112edb71f\n",
            "tcmalloc: large alloc 7247912960 bytes == 0x562525a76000 @  0x7f6113ff11e7 0x7f60e1788605 0x7f60e1f79295 0x7f60e2e8e51a 0x7f60e2f02bba 0x7f60e2f0478b 0x7f60e2f0523e 0x7f60e2f78dc1 0x7f60e2f7943c 0x7f60e2f7a7cc 0x7f60dc74fbb0 0x7f60e08e0481 0x7f60e08dd173 0x7f60dc8082d5 0x7f6113da66db 0x7f6112edb71f\n",
            "tcmalloc: large alloc 7247912960 bytes == 0x5624c5a76000 @  0x7f6113ff11e7 0x7f60e1788605 0x7f60e1f79295 0x7f60e2e8e51a 0x7f60e2f02bba 0x7f60e2f0478b 0x7f60e2f0523e 0x7f60e2f78dc1 0x7f60e2f7943c 0x7f60e2f7a7cc 0x7f60dc74fbb0 0x7f60e08e0481 0x7f60e08dd173 0x7f60dc8082d5 0x7f6113da66db 0x7f6112edb71f\n",
            "tcmalloc: large alloc 7247912960 bytes == 0x562525a76000 @  0x7f6113ff11e7 0x7f60e1788605 0x7f60e1f79295 0x7f60e2e8e51a 0x7f60e2f02bba 0x7f60e2f0478b 0x7f60e2f0523e 0x7f60e2f78dc1 0x7f60e2f7943c 0x7f60e2f7a7cc 0x7f60dc74fbb0 0x7f60e08e0481 0x7f60e08dd173 0x7f60dc8082d5 0x7f6113da66db 0x7f6112edb71f\n",
            "tcmalloc: large alloc 7247912960 bytes == 0x5624f5a76000 @  0x7f6113ff11e7 0x7f60e1788605 0x7f60e1f79295 0x7f60e2e8e51a 0x7f60e2f02bba 0x7f60e2f0478b 0x7f60e2f0523e 0x7f60e2f78dc1 0x7f60e2f7943c 0x7f60e2f7a7cc 0x7f60dc74fbb0 0x7f60e08e0481 0x7f60e08dd173 0x7f60dc8082d5 0x7f6113da66db 0x7f6112edb71f\n",
            "WARNING:root:Lossy conversion from float32 to uint8. Range [-0.07585728168487549, 1.0709747076034546]. Convert image to uint8 prior to saving to suppress this warning.\n",
            "WARNING:root:Lossy conversion from float32 to uint8. Range [-0.07585728168487549, 1.0709747076034546]. Convert image to uint8 prior to saving to suppress this warning.\n",
            "Testing original iphone model, processing image 2015_02391.jpg\n",
            "WARNING:root:Lossy conversion from float32 to uint8. Range [-0.0676456093788147, 1.0707764625549316]. Convert image to uint8 prior to saving to suppress this warning.\n",
            "WARNING:root:Lossy conversion from float32 to uint8. Range [-0.0676456093788147, 1.0707764625549316]. Convert image to uint8 prior to saving to suppress this warning.\n",
            "Testing original iphone model, processing image 2015_02150.jpg\n",
            "WARNING:root:Lossy conversion from float32 to uint8. Range [-0.03621023893356323, 1.0303254127502441]. Convert image to uint8 prior to saving to suppress this warning.\n",
            "WARNING:root:Lossy conversion from float32 to uint8. Range [-0.03621023893356323, 1.0303254127502441]. Convert image to uint8 prior to saving to suppress this warning.\n",
            "Testing original iphone model, processing image 2015_02187.jpg\n",
            "WARNING:root:Lossy conversion from float32 to uint8. Range [-0.07374614477157593, 1.063826084136963]. Convert image to uint8 prior to saving to suppress this warning.\n",
            "WARNING:root:Lossy conversion from float32 to uint8. Range [-0.07374614477157593, 1.063826084136963]. Convert image to uint8 prior to saving to suppress this warning.\n",
            "Testing original iphone model, processing image 2015_02193.jpg\n",
            "WARNING:root:Lossy conversion from float32 to uint8. Range [-0.0685586929321289, 1.0605950355529785]. Convert image to uint8 prior to saving to suppress this warning.\n",
            "WARNING:root:Lossy conversion from float32 to uint8. Range [-0.0685586929321289, 1.0605950355529785]. Convert image to uint8 prior to saving to suppress this warning.\n",
            "Testing original iphone model, processing image 2015_01897.jpg\n",
            "WARNING:root:Lossy conversion from float32 to uint8. Range [-0.07929909229278564, 1.0786404609680176]. Convert image to uint8 prior to saving to suppress this warning.\n",
            "WARNING:root:Lossy conversion from float32 to uint8. Range [-0.07929909229278564, 1.0786404609680176]. Convert image to uint8 prior to saving to suppress this warning.\n",
            "Testing original iphone model, processing image 2015_02346.jpg\n",
            "WARNING:root:Lossy conversion from float32 to uint8. Range [-0.06268465518951416, 1.0557007789611816]. Convert image to uint8 prior to saving to suppress this warning.\n",
            "WARNING:root:Lossy conversion from float32 to uint8. Range [-0.06268465518951416, 1.0557007789611816]. Convert image to uint8 prior to saving to suppress this warning.\n",
            "Testing original iphone model, processing image 2015_01883.jpg\n",
            "WARNING:root:Lossy conversion from float32 to uint8. Range [-0.07390719652175903, 1.0674679279327393]. Convert image to uint8 prior to saving to suppress this warning.\n",
            "WARNING:root:Lossy conversion from float32 to uint8. Range [-0.07390719652175903, 1.0674679279327393]. Convert image to uint8 prior to saving to suppress this warning.\n",
            "Testing original iphone model, processing image 2015_02232.jpg\n",
            "WARNING:root:Lossy conversion from float32 to uint8. Range [-0.07272905111312866, 1.0730410814285278]. Convert image to uint8 prior to saving to suppress this warning.\n",
            "WARNING:root:Lossy conversion from float32 to uint8. Range [-0.07272905111312866, 1.0730410814285278]. Convert image to uint8 prior to saving to suppress this warning.\n",
            "Testing original iphone model, processing image 2015_02359.JPEG\n",
            "WARNING:root:Lossy conversion from float32 to uint8. Range [-0.07644474506378174, 1.065140962600708]. Convert image to uint8 prior to saving to suppress this warning.\n",
            "WARNING:root:Lossy conversion from float32 to uint8. Range [-0.07644474506378174, 1.065140962600708]. Convert image to uint8 prior to saving to suppress this warning.\n",
            "Testing original iphone model, processing image 2015_01920.jpg\n",
            "WARNING:root:Lossy conversion from float32 to uint8. Range [-0.07566332817077637, 1.0666583776474]. Convert image to uint8 prior to saving to suppress this warning.\n",
            "WARNING:root:Lossy conversion from float32 to uint8. Range [-0.07566332817077637, 1.0666583776474]. Convert image to uint8 prior to saving to suppress this warning.\n",
            "Testing original iphone model, processing image 2015_01934.jpg\n",
            "WARNING:root:Lossy conversion from float32 to uint8. Range [-0.06993162631988525, 1.0570082664489746]. Convert image to uint8 prior to saving to suppress this warning.\n",
            "WARNING:root:Lossy conversion from float32 to uint8. Range [-0.06993162631988525, 1.0570082664489746]. Convert image to uint8 prior to saving to suppress this warning.\n",
            "Testing original iphone model, processing image 2015_02024.jpg\n",
            "WARNING:root:Lossy conversion from float32 to uint8. Range [-0.07707196474075317, 1.069709062576294]. Convert image to uint8 prior to saving to suppress this warning.\n",
            "WARNING:root:Lossy conversion from float32 to uint8. Range [-0.07707196474075317, 1.069709062576294]. Convert image to uint8 prior to saving to suppress this warning.\n",
            "Testing original iphone model, processing image 2015_01908.jpg\n",
            "WARNING:root:Lossy conversion from float32 to uint8. Range [-0.07912003993988037, 1.0756428241729736]. Convert image to uint8 prior to saving to suppress this warning.\n",
            "WARNING:root:Lossy conversion from float32 to uint8. Range [-0.07912003993988037, 1.0756428241729736]. Convert image to uint8 prior to saving to suppress this warning.\n",
            "Testing original iphone model, processing image 2015_02226.jpg\n",
            "WARNING:root:Lossy conversion from float32 to uint8. Range [-0.07333320379257202, 1.066066026687622]. Convert image to uint8 prior to saving to suppress this warning.\n",
            "WARNING:root:Lossy conversion from float32 to uint8. Range [-0.07333320379257202, 1.066066026687622]. Convert image to uint8 prior to saving to suppress this warning.\n",
            "Testing original iphone model, processing image 2015_02025.jpg\n",
            "WARNING:root:Lossy conversion from float32 to uint8. Range [-0.06976622343063354, 1.0563464164733887]. Convert image to uint8 prior to saving to suppress this warning.\n",
            "WARNING:root:Lossy conversion from float32 to uint8. Range [-0.06976622343063354, 1.0563464164733887]. Convert image to uint8 prior to saving to suppress this warning.\n",
            "Testing original iphone model, processing image 2015_02018.jpg\n",
            "WARNING:root:Lossy conversion from float32 to uint8. Range [-0.07612985372543335, 1.0728473663330078]. Convert image to uint8 prior to saving to suppress this warning.\n",
            "WARNING:root:Lossy conversion from float32 to uint8. Range [-0.07612985372543335, 1.0728473663330078]. Convert image to uint8 prior to saving to suppress this warning.\n",
            "Testing original iphone model, processing image 2015_02030.jpg\n",
            "WARNING:root:Lossy conversion from float32 to uint8. Range [-0.06847858428955078, 1.065259337425232]. Convert image to uint8 prior to saving to suppress this warning.\n",
            "WARNING:root:Lossy conversion from float32 to uint8. Range [-0.06847858428955078, 1.065259337425232]. Convert image to uint8 prior to saving to suppress this warning.\n",
            "Testing original iphone model, processing image 2015_02031.jpg\n",
            "WARNING:root:Lossy conversion from float32 to uint8. Range [-0.07943463325500488, 1.0703670978546143]. Convert image to uint8 prior to saving to suppress this warning.\n",
            "WARNING:root:Lossy conversion from float32 to uint8. Range [-0.07943463325500488, 1.0703670978546143]. Convert image to uint8 prior to saving to suppress this warning.\n",
            "Testing original iphone model, processing image 2015_02385.jpg\n",
            "WARNING:root:Lossy conversion from float32 to uint8. Range [-0.07858872413635254, 1.0717651844024658]. Convert image to uint8 prior to saving to suppress this warning.\n",
            "WARNING:root:Lossy conversion from float32 to uint8. Range [-0.07858872413635254, 1.0717651844024658]. Convert image to uint8 prior to saving to suppress this warning.\n",
            "Testing original iphone model, processing image 2015_02192.jpg\n",
            "WARNING:root:Lossy conversion from float32 to uint8. Range [-0.07719892263412476, 1.0657591819763184]. Convert image to uint8 prior to saving to suppress this warning.\n",
            "WARNING:root:Lossy conversion from float32 to uint8. Range [-0.07719892263412476, 1.0657591819763184]. Convert image to uint8 prior to saving to suppress this warning.\n",
            "Testing original iphone model, processing image 2015_02347.jpg\n",
            "WARNING:root:Lossy conversion from float32 to uint8. Range [-0.07951074838638306, 1.0749900341033936]. Convert image to uint8 prior to saving to suppress this warning.\n",
            "WARNING:root:Lossy conversion from float32 to uint8. Range [-0.07951074838638306, 1.0749900341033936]. Convert image to uint8 prior to saving to suppress this warning.\n",
            "Testing original iphone model, processing image 2015_01921.jpg\n",
            "WARNING:root:Lossy conversion from float32 to uint8. Range [-0.06209224462509155, 1.0782508850097656]. Convert image to uint8 prior to saving to suppress this warning.\n",
            "WARNING:root:Lossy conversion from float32 to uint8. Range [-0.06209224462509155, 1.0782508850097656]. Convert image to uint8 prior to saving to suppress this warning.\n",
            "Testing original iphone model, processing image 2015_02186.jpg\n",
            "WARNING:root:Lossy conversion from float32 to uint8. Range [-0.07284116744995117, 1.0511199235916138]. Convert image to uint8 prior to saving to suppress this warning.\n",
            "WARNING:root:Lossy conversion from float32 to uint8. Range [-0.07284116744995117, 1.0511199235916138]. Convert image to uint8 prior to saving to suppress this warning.\n",
            "Testing original iphone model, processing image 2015_02019.jpg\n",
            "WARNING:root:Lossy conversion from float32 to uint8. Range [-0.0779755711555481, 1.062452793121338]. Convert image to uint8 prior to saving to suppress this warning.\n",
            "WARNING:root:Lossy conversion from float32 to uint8. Range [-0.0779755711555481, 1.062452793121338]. Convert image to uint8 prior to saving to suppress this warning.\n",
            "Testing original iphone model, processing image 2015_01935.jpg\n",
            "WARNING:root:Lossy conversion from float32 to uint8. Range [-0.07596653699874878, 1.0676424503326416]. Convert image to uint8 prior to saving to suppress this warning.\n",
            "WARNING:root:Lossy conversion from float32 to uint8. Range [-0.07596653699874878, 1.0676424503326416]. Convert image to uint8 prior to saving to suppress this warning.\n",
            "Testing original iphone model, processing image 2015_02227.jpg\n",
            "WARNING:root:Lossy conversion from float32 to uint8. Range [-0.07017785310745239, 1.0606426000595093]. Convert image to uint8 prior to saving to suppress this warning.\n",
            "WARNING:root:Lossy conversion from float32 to uint8. Range [-0.07017785310745239, 1.0606426000595093]. Convert image to uint8 prior to saving to suppress this warning.\n",
            "Testing original iphone model, processing image 2015_02145.jpg\n",
            "WARNING:root:Lossy conversion from float32 to uint8. Range [-0.05753225088119507, 1.044848918914795]. Convert image to uint8 prior to saving to suppress this warning.\n",
            "WARNING:root:Lossy conversion from float32 to uint8. Range [-0.05753225088119507, 1.044848918914795]. Convert image to uint8 prior to saving to suppress this warning.\n",
            "Testing original iphone model, processing image 2015_01909.jpg\n",
            "WARNING:root:Lossy conversion from float32 to uint8. Range [-0.0585935115814209, 1.062857747077942]. Convert image to uint8 prior to saving to suppress this warning.\n",
            "WARNING:root:Lossy conversion from float32 to uint8. Range [-0.0585935115814209, 1.062857747077942]. Convert image to uint8 prior to saving to suppress this warning.\n",
            "Testing original iphone model, processing image 2015_02233.jpg\n",
            "WARNING:root:Lossy conversion from float32 to uint8. Range [-0.07959091663360596, 1.076480746269226]. Convert image to uint8 prior to saving to suppress this warning.\n",
            "WARNING:root:Lossy conversion from float32 to uint8. Range [-0.07959091663360596, 1.076480746269226]. Convert image to uint8 prior to saving to suppress this warning.\n",
            "Testing original iphone model, processing image 2015_02390.jpg\n",
            "WARNING:root:Lossy conversion from float32 to uint8. Range [-0.07929074764251709, 1.060205340385437]. Convert image to uint8 prior to saving to suppress this warning.\n",
            "WARNING:root:Lossy conversion from float32 to uint8. Range [-0.07929074764251709, 1.060205340385437]. Convert image to uint8 prior to saving to suppress this warning.\n",
            "Testing original iphone model, processing image 2015_01896.jpg\n",
            "WARNING:root:Lossy conversion from float32 to uint8. Range [-0.07773232460021973, 1.067685604095459]. Convert image to uint8 prior to saving to suppress this warning.\n",
            "WARNING:root:Lossy conversion from float32 to uint8. Range [-0.07773232460021973, 1.067685604095459]. Convert image to uint8 prior to saving to suppress this warning.\n",
            "Testing original iphone model, processing image 2015_02384.jpg\n",
            "WARNING:root:Lossy conversion from float32 to uint8. Range [-0.07857447862625122, 1.066739559173584]. Convert image to uint8 prior to saving to suppress this warning.\n",
            "WARNING:root:Lossy conversion from float32 to uint8. Range [-0.07857447862625122, 1.066739559173584]. Convert image to uint8 prior to saving to suppress this warning.\n",
            "Testing original iphone model, processing image 2015_01882.png\n",
            "WARNING:root:Lossy conversion from float32 to uint8. Range [-0.0740932822227478, 1.0642147064208984]. Convert image to uint8 prior to saving to suppress this warning.\n",
            "WARNING:root:Lossy conversion from float32 to uint8. Range [-0.0740932822227478, 1.0642147064208984]. Convert image to uint8 prior to saving to suppress this warning.\n",
            "Testing original iphone model, processing image 2015_01894.jpg\n",
            "WARNING:root:Lossy conversion from float32 to uint8. Range [-0.07505643367767334, 1.062656283378601]. Convert image to uint8 prior to saving to suppress this warning.\n",
            "WARNING:root:Lossy conversion from float32 to uint8. Range [-0.07505643367767334, 1.062656283378601]. Convert image to uint8 prior to saving to suppress this warning.\n",
            "Testing original iphone model, processing image 2015_02190.jpg\n",
            "WARNING:root:Lossy conversion from float32 to uint8. Range [-0.06803643703460693, 1.060938835144043]. Convert image to uint8 prior to saving to suppress this warning.\n",
            "WARNING:root:Lossy conversion from float32 to uint8. Range [-0.06803643703460693, 1.060938835144043]. Convert image to uint8 prior to saving to suppress this warning.\n",
            "Testing original iphone model, processing image 2015_02184.jpg\n",
            "WARNING:root:Lossy conversion from float32 to uint8. Range [-0.06547212600708008, 1.057499647140503]. Convert image to uint8 prior to saving to suppress this warning.\n",
            "WARNING:root:Lossy conversion from float32 to uint8. Range [-0.06547212600708008, 1.057499647140503]. Convert image to uint8 prior to saving to suppress this warning.\n",
            "Testing original iphone model, processing image 2015_02379.jpg\n",
            "WARNING:root:Lossy conversion from float32 to uint8. Range [-0.07365036010742188, 1.0620057582855225]. Convert image to uint8 prior to saving to suppress this warning.\n",
            "WARNING:root:Lossy conversion from float32 to uint8. Range [-0.07365036010742188, 1.0620057582855225]. Convert image to uint8 prior to saving to suppress this warning.\n",
            "Testing original iphone model, processing image 2015_02392.jpg\n",
            "WARNING:root:Lossy conversion from float32 to uint8. Range [-0.07805788516998291, 1.076812744140625]. Convert image to uint8 prior to saving to suppress this warning.\n",
            "WARNING:root:Lossy conversion from float32 to uint8. Range [-0.07805788516998291, 1.076812744140625]. Convert image to uint8 prior to saving to suppress this warning.\n",
            "Testing original iphone model, processing image 2015_02153.jpg\n",
            "WARNING:root:Lossy conversion from float32 to uint8. Range [-0.06365418434143066, 1.061448335647583]. Convert image to uint8 prior to saving to suppress this warning.\n",
            "WARNING:root:Lossy conversion from float32 to uint8. Range [-0.06365418434143066, 1.061448335647583]. Convert image to uint8 prior to saving to suppress this warning.\n",
            "Testing original iphone model, processing image 2015_02345.jpg\n",
            "WARNING:root:Lossy conversion from float32 to uint8. Range [-0.03551912307739258, 1.0428059101104736]. Convert image to uint8 prior to saving to suppress this warning.\n",
            "WARNING:root:Lossy conversion from float32 to uint8. Range [-0.03551912307739258, 1.0428059101104736]. Convert image to uint8 prior to saving to suppress this warning.\n",
            "Testing original iphone model, processing image 2015_02151.jpg\n",
            "WARNING:root:Lossy conversion from float32 to uint8. Range [-0.037995874881744385, 1.0403306484222412]. Convert image to uint8 prior to saving to suppress this warning.\n",
            "WARNING:root:Lossy conversion from float32 to uint8. Range [-0.037995874881744385, 1.0403306484222412]. Convert image to uint8 prior to saving to suppress this warning.\n",
            "Testing original iphone model, processing image 2015_01880.png\n",
            "WARNING:root:Lossy conversion from float32 to uint8. Range [-0.07743960618972778, 1.0647218227386475]. Convert image to uint8 prior to saving to suppress this warning.\n",
            "WARNING:root:Lossy conversion from float32 to uint8. Range [-0.07743960618972778, 1.0647218227386475]. Convert image to uint8 prior to saving to suppress this warning.\n",
            "Testing original iphone model, processing image 2015_02219.jpg\n",
            "WARNING:root:Lossy conversion from float32 to uint8. Range [-0.07784658670425415, 1.063000202178955]. Convert image to uint8 prior to saving to suppress this warning.\n",
            "WARNING:root:Lossy conversion from float32 to uint8. Range [-0.07784658670425415, 1.063000202178955]. Convert image to uint8 prior to saving to suppress this warning.\n",
            "Testing original iphone model, processing image 2015_02386.jpg\n",
            "WARNING:root:Lossy conversion from float32 to uint8. Range [-0.07771080732345581, 1.0771191120147705]. Convert image to uint8 prior to saving to suppress this warning.\n",
            "WARNING:root:Lossy conversion from float32 to uint8. Range [-0.07771080732345581, 1.0771191120147705]. Convert image to uint8 prior to saving to suppress this warning.\n",
            "Testing original iphone model, processing image 2015_02179.jpg\n",
            "WARNING:root:Lossy conversion from float32 to uint8. Range [-0.07967311143875122, 1.0666749477386475]. Convert image to uint8 prior to saving to suppress this warning.\n",
            "WARNING:root:Lossy conversion from float32 to uint8. Range [-0.07967311143875122, 1.0666749477386475]. Convert image to uint8 prior to saving to suppress this warning.\n",
            "Testing original iphone model, processing image 2015_02147.jpg\n",
            "WARNING:root:Lossy conversion from float32 to uint8. Range [-0.07578092813491821, 1.069555640220642]. Convert image to uint8 prior to saving to suppress this warning.\n",
            "WARNING:root:Lossy conversion from float32 to uint8. Range [-0.07578092813491821, 1.069555640220642]. Convert image to uint8 prior to saving to suppress this warning.\n",
            "Testing original iphone model, processing image 2015_02026.jpg\n",
            "^C\n"
          ],
          "name": "stdout"
        }
      ]
    }
  ]
}