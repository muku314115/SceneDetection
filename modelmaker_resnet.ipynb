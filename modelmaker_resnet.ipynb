{
  "nbformat": 4,
  "nbformat_minor": 0,
  "metadata": {
    "colab": {
      "name": "modelmaker_resnet.ipynb",
      "provenance": [],
      "collapsed_sections": [],
      "authorship_tag": "ABX9TyMXVeK/sPFEdeCAqaBlz9Pp",
      "include_colab_link": true
    },
    "kernelspec": {
      "name": "python3",
      "display_name": "Python 3"
    },
    "accelerator": "GPU"
  },
  "cells": [
    {
      "cell_type": "markdown",
      "metadata": {
        "id": "view-in-github",
        "colab_type": "text"
      },
      "source": [
        "<a href=\"https://colab.research.google.com/github/MukundIsGod/SceneDetection/blob/master/modelmaker_resnet.ipynb\" target=\"_parent\"><img src=\"https://colab.research.google.com/assets/colab-badge.svg\" alt=\"Open In Colab\"/></a>"
      ]
    },
    {
      "cell_type": "code",
      "metadata": {
        "colab": {
          "base_uri": "https://localhost:8080/"
        },
        "id": "p4C0kMZIJ-QE",
        "outputId": "f9403794-de04-456d-a4f1-3eb98d24deb3"
      },
      "source": [
        "pip install -q tflite-model-maker"
      ],
      "execution_count": null,
      "outputs": [
        {
          "output_type": "stream",
          "text": [
            "\u001b[K     |████████████████████████████████| 194kB 8.7MB/s \n",
            "\u001b[K     |████████████████████████████████| 1.2MB 34.3MB/s \n",
            "\u001b[K     |████████████████████████████████| 1.0MB 56.6MB/s \n",
            "\u001b[K     |████████████████████████████████| 645kB 49.9MB/s \n",
            "\u001b[K     |████████████████████████████████| 5.5MB 43.5MB/s \n",
            "\u001b[K     |████████████████████████████████| 92kB 12.7MB/s \n",
            "\u001b[K     |████████████████████████████████| 71kB 8.2MB/s \n",
            "\u001b[K     |████████████████████████████████| 849kB 59.2MB/s \n",
            "\u001b[K     |████████████████████████████████| 194kB 57.0MB/s \n",
            "\u001b[K     |████████████████████████████████| 358kB 54.1MB/s \n",
            "\u001b[K     |████████████████████████████████| 37.6MB 85kB/s \n",
            "\u001b[K     |████████████████████████████████| 174kB 63.0MB/s \n",
            "\u001b[K     |████████████████████████████████| 102kB 15.4MB/s \n",
            "\u001b[K     |████████████████████████████████| 706kB 50.8MB/s \n",
            "\u001b[?25h  Building wheel for fire (setup.py) ... \u001b[?25l\u001b[?25hdone\n",
            "  Building wheel for py-cpuinfo (setup.py) ... \u001b[?25l\u001b[?25hdone\n",
            "\u001b[31mERROR: tensorflowjs 3.0.0 has requirement tensorflow-hub<0.10,>=0.7.0, but you'll have tensorflow-hub 0.11.0 which is incompatible.\u001b[0m\n"
          ],
          "name": "stdout"
        }
      ]
    },
    {
      "cell_type": "code",
      "metadata": {
        "id": "6evc78juKBgZ"
      },
      "source": [
        "import os\n",
        "\n",
        "import numpy as np\n",
        "\n",
        "import tensorflow as tf\n",
        "assert tf.__version__.startswith('2')\n",
        "\n",
        "from tflite_model_maker import configs\n",
        "from tflite_model_maker import ExportFormat\n",
        "from tflite_model_maker import image_classifier\n",
        "from tflite_model_maker import ImageClassifierDataLoader\n",
        "from tflite_model_maker import model_spec\n",
        "\n",
        "import matplotlib.pyplot as plt"
      ],
      "execution_count": null,
      "outputs": []
    },
    {
      "cell_type": "code",
      "metadata": {
        "colab": {
          "base_uri": "https://localhost:8080/"
        },
        "id": "jTZnVBr2KDq4",
        "outputId": "cd9d4f7f-d946-4c87-bacd-b602055df543"
      },
      "source": [
        "from google.colab import drive\n",
        "drive.mount('/content/drive')"
      ],
      "execution_count": null,
      "outputs": [
        {
          "output_type": "stream",
          "text": [
            "Mounted at /content/drive\n"
          ],
          "name": "stdout"
        }
      ]
    },
    {
      "cell_type": "code",
      "metadata": {
        "colab": {
          "base_uri": "https://localhost:8080/"
        },
        "id": "dH3GTCP9KNAm",
        "outputId": "e4690348-5b36-46da-b2f2-a36a08048d1e"
      },
      "source": [
        "image_path = '/content/drive/My Drive/scenes/seg_train/seg_train'\n",
        "\n",
        "data = ImageClassifierDataLoader.from_folder(image_path)\n",
        "train_data, rest_data = data.split(0.8)\n",
        "validation_data, test_data = rest_data.split(0.5)"
      ],
      "execution_count": null,
      "outputs": [
        {
          "output_type": "stream",
          "text": [
            "INFO:tensorflow:Load image with size: 17759, num_label: 11, labels: airplane, buildings, car, flower, forest, glacier, motorbike, mountain, person, sea, street.\n"
          ],
          "name": "stdout"
        }
      ]
    },
    {
      "cell_type": "code",
      "metadata": {
        "colab": {
          "base_uri": "https://localhost:8080/"
        },
        "id": "zF9WCR9cKmlk",
        "outputId": "d796e959-4d3b-4651-a91d-437e18e1d210"
      },
      "source": [
        "model = image_classifier.create(train_data, model_spec=model_spec.resnet_50_spec, validation_data=validation_data)"
      ],
      "execution_count": null,
      "outputs": [
        {
          "output_type": "stream",
          "text": [
            "INFO:tensorflow:Retraining the models...\n"
          ],
          "name": "stdout"
        },
        {
          "output_type": "stream",
          "text": [
            "INFO:tensorflow:Retraining the models...\n"
          ],
          "name": "stderr"
        },
        {
          "output_type": "stream",
          "text": [
            "Model: \"sequential_1\"\n",
            "_________________________________________________________________\n",
            "Layer (type)                 Output Shape              Param #   \n",
            "=================================================================\n",
            "hub_keras_layer_v1v2_1 (HubK (None, 2048)              23564800  \n",
            "_________________________________________________________________\n",
            "dropout_1 (Dropout)          (None, 2048)              0         \n",
            "_________________________________________________________________\n",
            "dense_1 (Dense)              (None, 11)                22539     \n",
            "=================================================================\n",
            "Total params: 23,587,339\n",
            "Trainable params: 22,539\n",
            "Non-trainable params: 23,564,800\n",
            "_________________________________________________________________\n",
            "None\n",
            "Epoch 1/5\n",
            "443/443 [==============================] - 2034s 5s/step - loss: 0.9764 - accuracy: 0.8415 - val_loss: 0.7757 - val_accuracy: 0.9097\n",
            "Epoch 2/5\n",
            "443/443 [==============================] - 62s 140ms/step - loss: 0.7756 - accuracy: 0.9151 - val_loss: 0.7815 - val_accuracy: 0.9085\n",
            "Epoch 3/5\n",
            "443/443 [==============================] - 59s 134ms/step - loss: 0.7585 - accuracy: 0.9179 - val_loss: 0.7421 - val_accuracy: 0.9205\n",
            "Epoch 4/5\n",
            "443/443 [==============================] - 59s 133ms/step - loss: 0.7433 - accuracy: 0.9251 - val_loss: 0.7404 - val_accuracy: 0.9187\n",
            "Epoch 5/5\n",
            "443/443 [==============================] - 59s 134ms/step - loss: 0.7346 - accuracy: 0.9274 - val_loss: 0.7322 - val_accuracy: 0.9250\n"
          ],
          "name": "stdout"
        }
      ]
    },
    {
      "cell_type": "code",
      "metadata": {
        "colab": {
          "base_uri": "https://localhost:8080/"
        },
        "id": "gjBNRV8VK85E",
        "outputId": "152aa1b7-306d-4386-d553-f4223b41a88f"
      },
      "source": [
        "loss, accuracy = model.evaluate(test_data)"
      ],
      "execution_count": null,
      "outputs": [
        {
          "output_type": "stream",
          "text": [
            "56/56 [==============================] - 352s 6s/step - loss: 0.7195 - accuracy: 0.9184\n"
          ],
          "name": "stdout"
        }
      ]
    },
    {
      "cell_type": "code",
      "metadata": {
        "id": "F623FepQLE0o"
      },
      "source": [
        "model.export(export_dir='.', tflite_filename='modelo_de_resnet.tflite')\n",
        "model.export(export_dir='.', export_format=ExportFormat.LABEL)"
      ],
      "execution_count": null,
      "outputs": []
    }
  ]
}