{
  "nbformat": 4,
  "nbformat_minor": 0,
  "metadata": {
    "colab": {
      "name": "metadata.ipynb",
      "provenance": [],
      "authorship_tag": "ABX9TyPWhpIzGFG4h8+8XNRIna7n",
      "include_colab_link": true
    },
    "kernelspec": {
      "name": "python3",
      "display_name": "Python 3"
    }
  },
  "cells": [
    {
      "cell_type": "markdown",
      "metadata": {
        "id": "view-in-github",
        "colab_type": "text"
      },
      "source": [
        "<a href=\"https://colab.research.google.com/github/MukundIsGod/SceneDetection/blob/master/metadata.ipynb\" target=\"_parent\"><img src=\"https://colab.research.google.com/assets/colab-badge.svg\" alt=\"Open In Colab\"/></a>"
      ]
    },
    {
      "cell_type": "code",
      "metadata": {
        "colab": {
          "base_uri": "https://localhost:8080/"
        },
        "id": "Xq3hbIh_L_gR",
        "outputId": "a09c4530-ec39-4884-9f7c-1547830f65bb"
      },
      "source": [
        "pip install tflite_support_nightly"
      ],
      "execution_count": null,
      "outputs": [
        {
          "output_type": "stream",
          "text": [
            "Collecting tflite_support_nightly\n",
            "\u001b[?25l  Downloading https://files.pythonhosted.org/packages/eb/40/a5605bc58fc8ddb215a7252be51ab2d9983a686ef273166c29e91279cff2/tflite_support_nightly-0.1.0.dev20210214-cp36-cp36m-manylinux2010_x86_64.whl (1.1MB)\n",
            "\r\u001b[K     |▎                               | 10kB 5.8MB/s eta 0:00:01\r\u001b[K     |▋                               | 20kB 9.3MB/s eta 0:00:01\r\u001b[K     |█                               | 30kB 7.7MB/s eta 0:00:01\r\u001b[K     |█▎                              | 40kB 7.1MB/s eta 0:00:01\r\u001b[K     |█▌                              | 51kB 4.0MB/s eta 0:00:01\r\u001b[K     |█▉                              | 61kB 4.3MB/s eta 0:00:01\r\u001b[K     |██▏                             | 71kB 4.6MB/s eta 0:00:01\r\u001b[K     |██▌                             | 81kB 5.0MB/s eta 0:00:01\r\u001b[K     |██▊                             | 92kB 5.2MB/s eta 0:00:01\r\u001b[K     |███                             | 102kB 5.4MB/s eta 0:00:01\r\u001b[K     |███▍                            | 112kB 5.4MB/s eta 0:00:01\r\u001b[K     |███▊                            | 122kB 5.4MB/s eta 0:00:01\r\u001b[K     |████                            | 133kB 5.4MB/s eta 0:00:01\r\u001b[K     |████▎                           | 143kB 5.4MB/s eta 0:00:01\r\u001b[K     |████▋                           | 153kB 5.4MB/s eta 0:00:01\r\u001b[K     |█████                           | 163kB 5.4MB/s eta 0:00:01\r\u001b[K     |█████▏                          | 174kB 5.4MB/s eta 0:00:01\r\u001b[K     |█████▌                          | 184kB 5.4MB/s eta 0:00:01\r\u001b[K     |█████▉                          | 194kB 5.4MB/s eta 0:00:01\r\u001b[K     |██████▏                         | 204kB 5.4MB/s eta 0:00:01\r\u001b[K     |██████▌                         | 215kB 5.4MB/s eta 0:00:01\r\u001b[K     |██████▊                         | 225kB 5.4MB/s eta 0:00:01\r\u001b[K     |███████                         | 235kB 5.4MB/s eta 0:00:01\r\u001b[K     |███████▍                        | 245kB 5.4MB/s eta 0:00:01\r\u001b[K     |███████▊                        | 256kB 5.4MB/s eta 0:00:01\r\u001b[K     |████████                        | 266kB 5.4MB/s eta 0:00:01\r\u001b[K     |████████▎                       | 276kB 5.4MB/s eta 0:00:01\r\u001b[K     |████████▋                       | 286kB 5.4MB/s eta 0:00:01\r\u001b[K     |█████████                       | 296kB 5.4MB/s eta 0:00:01\r\u001b[K     |█████████▏                      | 307kB 5.4MB/s eta 0:00:01\r\u001b[K     |█████████▌                      | 317kB 5.4MB/s eta 0:00:01\r\u001b[K     |█████████▉                      | 327kB 5.4MB/s eta 0:00:01\r\u001b[K     |██████████▏                     | 337kB 5.4MB/s eta 0:00:01\r\u001b[K     |██████████▍                     | 348kB 5.4MB/s eta 0:00:01\r\u001b[K     |██████████▊                     | 358kB 5.4MB/s eta 0:00:01\r\u001b[K     |███████████                     | 368kB 5.4MB/s eta 0:00:01\r\u001b[K     |███████████▍                    | 378kB 5.4MB/s eta 0:00:01\r\u001b[K     |███████████▊                    | 389kB 5.4MB/s eta 0:00:01\r\u001b[K     |████████████                    | 399kB 5.4MB/s eta 0:00:01\r\u001b[K     |████████████▎                   | 409kB 5.4MB/s eta 0:00:01\r\u001b[K     |████████████▋                   | 419kB 5.4MB/s eta 0:00:01\r\u001b[K     |█████████████                   | 430kB 5.4MB/s eta 0:00:01\r\u001b[K     |█████████████▏                  | 440kB 5.4MB/s eta 0:00:01\r\u001b[K     |█████████████▌                  | 450kB 5.4MB/s eta 0:00:01\r\u001b[K     |█████████████▉                  | 460kB 5.4MB/s eta 0:00:01\r\u001b[K     |██████████████▏                 | 471kB 5.4MB/s eta 0:00:01\r\u001b[K     |██████████████▍                 | 481kB 5.4MB/s eta 0:00:01\r\u001b[K     |██████████████▊                 | 491kB 5.4MB/s eta 0:00:01\r\u001b[K     |███████████████                 | 501kB 5.4MB/s eta 0:00:01\r\u001b[K     |███████████████▍                | 512kB 5.4MB/s eta 0:00:01\r\u001b[K     |███████████████▋                | 522kB 5.4MB/s eta 0:00:01\r\u001b[K     |████████████████                | 532kB 5.4MB/s eta 0:00:01\r\u001b[K     |████████████████▎               | 542kB 5.4MB/s eta 0:00:01\r\u001b[K     |████████████████▋               | 552kB 5.4MB/s eta 0:00:01\r\u001b[K     |█████████████████               | 563kB 5.4MB/s eta 0:00:01\r\u001b[K     |█████████████████▏              | 573kB 5.4MB/s eta 0:00:01\r\u001b[K     |█████████████████▌              | 583kB 5.4MB/s eta 0:00:01\r\u001b[K     |█████████████████▉              | 593kB 5.4MB/s eta 0:00:01\r\u001b[K     |██████████████████▏             | 604kB 5.4MB/s eta 0:00:01\r\u001b[K     |██████████████████▍             | 614kB 5.4MB/s eta 0:00:01\r\u001b[K     |██████████████████▊             | 624kB 5.4MB/s eta 0:00:01\r\u001b[K     |███████████████████             | 634kB 5.4MB/s eta 0:00:01\r\u001b[K     |███████████████████▍            | 645kB 5.4MB/s eta 0:00:01\r\u001b[K     |███████████████████▋            | 655kB 5.4MB/s eta 0:00:01\r\u001b[K     |████████████████████            | 665kB 5.4MB/s eta 0:00:01\r\u001b[K     |████████████████████▎           | 675kB 5.4MB/s eta 0:00:01\r\u001b[K     |████████████████████▋           | 686kB 5.4MB/s eta 0:00:01\r\u001b[K     |████████████████████▉           | 696kB 5.4MB/s eta 0:00:01\r\u001b[K     |█████████████████████▏          | 706kB 5.4MB/s eta 0:00:01\r\u001b[K     |█████████████████████▌          | 716kB 5.4MB/s eta 0:00:01\r\u001b[K     |█████████████████████▉          | 727kB 5.4MB/s eta 0:00:01\r\u001b[K     |██████████████████████▏         | 737kB 5.4MB/s eta 0:00:01\r\u001b[K     |██████████████████████▍         | 747kB 5.4MB/s eta 0:00:01\r\u001b[K     |██████████████████████▊         | 757kB 5.4MB/s eta 0:00:01\r\u001b[K     |███████████████████████         | 768kB 5.4MB/s eta 0:00:01\r\u001b[K     |███████████████████████▍        | 778kB 5.4MB/s eta 0:00:01\r\u001b[K     |███████████████████████▋        | 788kB 5.4MB/s eta 0:00:01\r\u001b[K     |████████████████████████        | 798kB 5.4MB/s eta 0:00:01\r\u001b[K     |████████████████████████▎       | 808kB 5.4MB/s eta 0:00:01\r\u001b[K     |████████████████████████▋       | 819kB 5.4MB/s eta 0:00:01\r\u001b[K     |████████████████████████▉       | 829kB 5.4MB/s eta 0:00:01\r\u001b[K     |█████████████████████████▏      | 839kB 5.4MB/s eta 0:00:01\r\u001b[K     |█████████████████████████▌      | 849kB 5.4MB/s eta 0:00:01\r\u001b[K     |█████████████████████████▉      | 860kB 5.4MB/s eta 0:00:01\r\u001b[K     |██████████████████████████      | 870kB 5.4MB/s eta 0:00:01\r\u001b[K     |██████████████████████████▍     | 880kB 5.4MB/s eta 0:00:01\r\u001b[K     |██████████████████████████▊     | 890kB 5.4MB/s eta 0:00:01\r\u001b[K     |███████████████████████████     | 901kB 5.4MB/s eta 0:00:01\r\u001b[K     |███████████████████████████▍    | 911kB 5.4MB/s eta 0:00:01\r\u001b[K     |███████████████████████████▋    | 921kB 5.4MB/s eta 0:00:01\r\u001b[K     |████████████████████████████    | 931kB 5.4MB/s eta 0:00:01\r\u001b[K     |████████████████████████████▎   | 942kB 5.4MB/s eta 0:00:01\r\u001b[K     |████████████████████████████▋   | 952kB 5.4MB/s eta 0:00:01\r\u001b[K     |████████████████████████████▉   | 962kB 5.4MB/s eta 0:00:01\r\u001b[K     |█████████████████████████████▏  | 972kB 5.4MB/s eta 0:00:01\r\u001b[K     |█████████████████████████████▌  | 983kB 5.4MB/s eta 0:00:01\r\u001b[K     |█████████████████████████████▉  | 993kB 5.4MB/s eta 0:00:01\r\u001b[K     |██████████████████████████████  | 1.0MB 5.4MB/s eta 0:00:01\r\u001b[K     |██████████████████████████████▍ | 1.0MB 5.4MB/s eta 0:00:01\r\u001b[K     |██████████████████████████████▊ | 1.0MB 5.4MB/s eta 0:00:01\r\u001b[K     |███████████████████████████████ | 1.0MB 5.4MB/s eta 0:00:01\r\u001b[K     |███████████████████████████████▎| 1.0MB 5.4MB/s eta 0:00:01\r\u001b[K     |███████████████████████████████▋| 1.1MB 5.4MB/s eta 0:00:01\r\u001b[K     |████████████████████████████████| 1.1MB 5.4MB/s eta 0:00:01\r\u001b[K     |████████████████████████████████| 1.1MB 5.4MB/s \n",
            "\u001b[?25hRequirement already satisfied: numpy>=1.16.0 in /usr/local/lib/python3.6/dist-packages (from tflite_support_nightly) (1.19.5)\n",
            "Requirement already satisfied: flatbuffers>=1.12 in /usr/local/lib/python3.6/dist-packages (from tflite_support_nightly) (1.12)\n",
            "Collecting pybind11>=2.6.0\n",
            "\u001b[?25l  Downloading https://files.pythonhosted.org/packages/8d/43/7339dbabbc2793718d59703aace4166f53c29ee1c202f6ff5bf8a26c4d91/pybind11-2.6.2-py2.py3-none-any.whl (191kB)\n",
            "\u001b[K     |████████████████████████████████| 194kB 18.5MB/s \n",
            "\u001b[?25hRequirement already satisfied: absl-py>=0.7.0 in /usr/local/lib/python3.6/dist-packages (from tflite_support_nightly) (0.10.0)\n",
            "Requirement already satisfied: six in /usr/local/lib/python3.6/dist-packages (from absl-py>=0.7.0->tflite_support_nightly) (1.15.0)\n",
            "Installing collected packages: pybind11, tflite-support-nightly\n",
            "Successfully installed pybind11-2.6.2 tflite-support-nightly-0.1.0.dev20210214\n"
          ],
          "name": "stdout"
        }
      ]
    },
    {
      "cell_type": "code",
      "metadata": {
        "colab": {
          "base_uri": "https://localhost:8080/"
        },
        "id": "AxspEEArNJiE",
        "outputId": "a1d732c0-ad78-4780-bffe-bedbeac2a96d"
      },
      "source": [
        "from google.colab import drive\n",
        "drive.mount('/content/drive')"
      ],
      "execution_count": null,
      "outputs": [
        {
          "output_type": "stream",
          "text": [
            "Mounted at /content/drive\n"
          ],
          "name": "stdout"
        }
      ]
    },
    {
      "cell_type": "code",
      "metadata": {
        "colab": {
          "base_uri": "https://localhost:8080/"
        },
        "id": "ZZmMprIYM66V",
        "outputId": "0b1ce42a-8f75-4f32-ec51-722fc0f5150c"
      },
      "source": [
        "from tflite_support.metadata_writers import image_classifier\n",
        "from tflite_support.metadata_writers import writer_utils\n",
        "from tflite_support import metadata\n",
        "\n",
        "ImageClassifierWriter = image_classifier.MetadataWriter\n",
        "_MODEL_PATH = \"/content/drive/My Drive/mobilenet_model.tflite\"\n",
        "_LABEL_FILE = \"/content/drive/My Drive/labels.txt\"\n",
        "_SAVE_TO_PATH = \"/content/drive/My Drive/mobilenet_metadata.tflite\"\n",
        "\n",
        "writer = ImageClassifierWriter.create_for_inference(\n",
        "    writer_utils.load_file(_MODEL_PATH), [127.5], [127.5], [_LABEL_FILE])\n",
        "writer_utils.save_file(writer.populate(), _SAVE_TO_PATH)\n",
        "\n",
        "# Verify the populated metadata and associated files.\n",
        "displayer = metadata.MetadataDisplayer.with_model_file(_SAVE_TO_PATH)\n",
        "print(\"Metadata populated:\")\n",
        "print(displayer.get_metadata_json())\n",
        "print(\"Associated file(s) populated:\")\n",
        "print(displayer.get_packed_associated_file_list())"
      ],
      "execution_count": null,
      "outputs": [
        {
          "output_type": "stream",
          "text": [
            "Metadata populated:\n",
            "{\n",
            "  \"name\": \"ImageClassifier\",\n",
            "  \"description\": \"Identify the most prominent object in the image from a known set of categories.\",\n",
            "  \"subgraph_metadata\": [\n",
            "    {\n",
            "      \"input_tensor_metadata\": [\n",
            "        {\n",
            "          \"name\": \"image\",\n",
            "          \"description\": \"Input image to be classified.\",\n",
            "          \"content\": {\n",
            "            \"content_properties_type\": \"ImageProperties\",\n",
            "            \"content_properties\": {\n",
            "              \"color_space\": \"RGB\"\n",
            "            }\n",
            "          },\n",
            "          \"process_units\": [\n",
            "            {\n",
            "              \"options_type\": \"NormalizationOptions\",\n",
            "              \"options\": {\n",
            "                \"mean\": [\n",
            "                  127.5\n",
            "                ],\n",
            "                \"std\": [\n",
            "                  127.5\n",
            "                ]\n",
            "              }\n",
            "            }\n",
            "          ],\n",
            "          \"stats\": {\n",
            "            \"max\": [\n",
            "              1.0\n",
            "            ],\n",
            "            \"min\": [\n",
            "              -1.0\n",
            "            ]\n",
            "          }\n",
            "        }\n",
            "      ],\n",
            "      \"output_tensor_metadata\": [\n",
            "        {\n",
            "          \"name\": \"probability\",\n",
            "          \"description\": \"Probabilities of the labels respectively.\",\n",
            "          \"content\": {\n",
            "            \"content_properties_type\": \"FeatureProperties\",\n",
            "            \"content_properties\": {\n",
            "            }\n",
            "          },\n",
            "          \"stats\": {\n",
            "            \"max\": [\n",
            "              1.0\n",
            "            ],\n",
            "            \"min\": [\n",
            "              0.0\n",
            "            ]\n",
            "          },\n",
            "          \"associated_files\": [\n",
            "            {\n",
            "              \"name\": \"labels.txt\",\n",
            "              \"description\": \"Labels for categories that the model can recognize.\",\n",
            "              \"type\": \"TENSOR_AXIS_LABELS\"\n",
            "            }\n",
            "          ]\n",
            "        }\n",
            "      ]\n",
            "    }\n",
            "  ],\n",
            "  \"min_parser_version\": \"1.0.0\"\n",
            "}\n",
            "\n",
            "Associated file(s) populated:\n",
            "['labels.txt']\n"
          ],
          "name": "stdout"
        }
      ]
    }
  ]
}