{
  "nbformat": 4,
  "nbformat_minor": 0,
  "metadata": {
    "colab": {
      "name": "linearexif.ipynb",
      "provenance": [],
      "collapsed_sections": [],
      "authorship_tag": "ABX9TyNp0A2o74MKj+4YBwU88ZVk",
      "include_colab_link": true
    },
    "kernelspec": {
      "name": "python3",
      "display_name": "Python 3"
    }
  },
  "cells": [
    {
      "cell_type": "markdown",
      "metadata": {
        "id": "view-in-github",
        "colab_type": "text"
      },
      "source": [
        "<a href=\"https://colab.research.google.com/github/MukundIsGod/SceneDetection/blob/master/linearexif.ipynb\" target=\"_parent\"><img src=\"https://colab.research.google.com/assets/colab-badge.svg\" alt=\"Open In Colab\"/></a>"
      ]
    },
    {
      "cell_type": "code",
      "metadata": {
        "id": "Ou4apKI07rBp"
      },
      "source": [
        "from google.colab import drive"
      ],
      "execution_count": null,
      "outputs": []
    },
    {
      "cell_type": "code",
      "metadata": {
        "colab": {
          "base_uri": "https://localhost:8080/"
        },
        "id": "DszJQllC72r-",
        "outputId": "3d30b10b-ad09-40f8-ac26-dbf9de304fec"
      },
      "source": [
        "drive.mount('/content/drive')"
      ],
      "execution_count": null,
      "outputs": [
        {
          "output_type": "stream",
          "text": [
            "Mounted at /content/drive\n"
          ],
          "name": "stdout"
        }
      ]
    },
    {
      "cell_type": "code",
      "metadata": {
        "id": "JucI86hk8MRX"
      },
      "source": [
        "data = '/content/drive/My Drive/exif/'"
      ],
      "execution_count": null,
      "outputs": []
    },
    {
      "cell_type": "code",
      "metadata": {
        "id": "uv9Uya71vfdN"
      },
      "source": [
        "import os\r\n",
        "import pandas as pd\r\n",
        "import numpy as np\r\n",
        "import matplotlib.pyplot as plt\r\n",
        "from sklearn import datasets, linear_model, metrics \r\n",
        "from sklearn.model_selection import train_test_split "
      ],
      "execution_count": null,
      "outputs": []
    },
    {
      "cell_type": "code",
      "metadata": {
        "colab": {
          "base_uri": "https://localhost:8080/"
        },
        "id": "nKSFbVb081C2",
        "outputId": "3eee1728-a603-40c0-94a5-c320880b21b1"
      },
      "source": [
        "needs = ['Exposure', 'Aperture', 'ISO Speed', 'Focal Length']\r\n",
        "\r\n",
        "exps = []\r\n",
        "aps = []\r\n",
        "isos = []\r\n",
        "focs = []\r\n",
        "for i in os.listdir(data):\r\n",
        "  try:\r\n",
        "    f = open(data + i)\r\n",
        "    content = f.read().split('-')\r\n",
        "  except:\r\n",
        "    continue\r\n",
        "  pairs = {'Exposure': 'lol', 'Aperture': 'lol', 'ISO Speed': 'lol', 'Focal Length': 'lol'}\r\n",
        "  content = filter(None, content)\r\n",
        "  for j in content:\r\n",
        "    parts = j.split('\\n')\r\n",
        "    parts[0] = parts[0].rstrip()\r\n",
        "    #print(parts)\r\n",
        "    if(parts[0] not in needs):\r\n",
        "      continue\r\n",
        "    pairs[parts[0]] = parts[1]\r\n",
        "  print(pairs)  \r\n",
        "  try:\r\n",
        "    if(pairs['Exposure']=='lol' or pairs['ISO Speed']=='lol' or pairs['Aperture']=='lol' or pairs['Focal Length']=='lol'):\r\n",
        "      continue\r\n",
        "    if(',' in pairs['Focal Length']):\r\n",
        "      continue\r\n",
        "    if('f/' in pairs['Aperture']):\r\n",
        "      aps.append(float(pairs['Aperture'].split('/')[1]))\r\n",
        "    else:\r\n",
        "      up = float(pairs['Aperture'].split('/')[0])\r\n",
        "      down = float(pairs['Aperture'].split('/')[1])\r\n",
        "      aps.append(float(up/down))\r\n",
        "    isos.append(pairs['ISO Speed'])\r\n",
        "    focs.append(pairs['Focal Length'].split(' ')[0])\r\n",
        "    exps.append(pairs['Exposure'].split(' ')[0])\r\n",
        "  except:\r\n",
        "    continue\r\n",
        "\r\n",
        "print(exps)\r\n",
        "print(focs)\r\n",
        "print(isos)\r\n",
        "print(aps)\r\n",
        "\r\n",
        "df = pd.DataFrame({\r\n",
        "      'Exposure Time': exps,\r\n",
        "      'Aperture': aps,\r\n",
        "      'ISO Speed': isos,\r\n",
        "      'Focal Length': focs\r\n",
        "  })"
      ],
      "execution_count": null,
      "outputs": [
        {
          "output_type": "stream",
          "text": [
            "{'Exposure': 'lol', 'Aperture': 'lol', 'ISO Speed': 'lol', 'Focal Length': 'lol'}\n",
            "{'Exposure': 'lol', 'Aperture': 'lol', 'ISO Speed': 'lol', 'Focal Length': 'lol'}\n",
            "{'Exposure': 'lol', 'Aperture': 'lol', 'ISO Speed': 'lol', 'Focal Length': 'lol'}\n",
            "{'Exposure': 'lol', 'Aperture': 'lol', 'ISO Speed': 'lol', 'Focal Length': 'lol'}\n",
            "{'Exposure': 'lol', 'Aperture': 'lol', 'ISO Speed': 'lol', 'Focal Length': 'lol'}\n",
            "{'Exposure': 'lol', 'Aperture': 'lol', 'ISO Speed': 'lol', 'Focal Length': 'lol'}\n",
            "{'Exposure': 'lol', 'Aperture': 'lol', 'ISO Speed': 'lol', 'Focal Length': 'lol'}\n",
            "{'Exposure': 'lol', 'Aperture': 'lol', 'ISO Speed': 'lol', 'Focal Length': 'lol'}\n",
            "{'Exposure': 'lol', 'Aperture': 'lol', 'ISO Speed': 'lol', 'Focal Length': 'lol'}\n",
            "{'Exposure': 'lol', 'Aperture': 'lol', 'ISO Speed': 'lol', 'Focal Length': 'lol'}\n",
            "{'Exposure': 'lol', 'Aperture': 'lol', 'ISO Speed': 'lol', 'Focal Length': 'lol'}\n",
            "{'Exposure': 'lol', 'Aperture': 'lol', 'ISO Speed': 'lol', 'Focal Length': 'lol'}\n",
            "{'Exposure': 'lol', 'Aperture': 'lol', 'ISO Speed': 'lol', 'Focal Length': 'lol'}\n",
            "{'Exposure': 'lol', 'Aperture': 'lol', 'ISO Speed': 'lol', 'Focal Length': 'lol'}\n",
            "{'Exposure': 'lol', 'Aperture': 'lol', 'ISO Speed': 'lol', 'Focal Length': 'lol'}\n",
            "{'Exposure': 'lol', 'Aperture': 'lol', 'ISO Speed': 'lol', 'Focal Length': 'lol'}\n",
            "{'Exposure': 'lol', 'Aperture': 'lol', 'ISO Speed': 'lol', 'Focal Length': 'lol'}\n",
            "{'Exposure': 'lol', 'Aperture': 'lol', 'ISO Speed': 'lol', 'Focal Length': 'lol'}\n",
            "{'Exposure': 'lol', 'Aperture': 'lol', 'ISO Speed': 'lol', 'Focal Length': 'lol'}\n",
            "{'Exposure': 'lol', 'Aperture': 'lol', 'ISO Speed': 'lol', 'Focal Length': 'lol'}\n",
            "{'Exposure': 'lol', 'Aperture': 'lol', 'ISO Speed': 'lol', 'Focal Length': 'lol'}\n",
            "{'Exposure': 'lol', 'Aperture': 'lol', 'ISO Speed': 'lol', 'Focal Length': 'lol'}\n",
            "{'Exposure': 'lol', 'Aperture': 'lol', 'ISO Speed': 'lol', 'Focal Length': 'lol'}\n",
            "{'Exposure': 'lol', 'Aperture': 'lol', 'ISO Speed': 'lol', 'Focal Length': 'lol'}\n",
            "{'Exposure': 'lol', 'Aperture': 'lol', 'ISO Speed': 'lol', 'Focal Length': 'lol'}\n",
            "{'Exposure': 'lol', 'Aperture': 'lol', 'ISO Speed': 'lol', 'Focal Length': 'lol'}\n",
            "{'Exposure': 'lol', 'Aperture': 'lol', 'ISO Speed': 'lol', 'Focal Length': 'lol'}\n",
            "{'Exposure': 'lol', 'Aperture': 'lol', 'ISO Speed': 'lol', 'Focal Length': 'lol'}\n",
            "{'Exposure': 'lol', 'Aperture': 'lol', 'ISO Speed': 'lol', 'Focal Length': 'lol'}\n",
            "{'Exposure': 'lol', 'Aperture': 'lol', 'ISO Speed': 'lol', 'Focal Length': 'lol'}\n",
            "{'Exposure': 'lol', 'Aperture': 'lol', 'ISO Speed': 'lol', 'Focal Length': 'lol'}\n",
            "{'Exposure': 'lol', 'Aperture': 'lol', 'ISO Speed': 'lol', 'Focal Length': 'lol'}\n",
            "{'Exposure': 'lol', 'Aperture': 'lol', 'ISO Speed': 'lol', 'Focal Length': 'lol'}\n",
            "{'Exposure': 'lol', 'Aperture': 'lol', 'ISO Speed': 'lol', 'Focal Length': 'lol'}\n",
            "{'Exposure': 'lol', 'Aperture': 'lol', 'ISO Speed': 'lol', 'Focal Length': 'lol'}\n",
            "{'Exposure': 'lol', 'Aperture': 'lol', 'ISO Speed': 'lol', 'Focal Length': 'lol'}\n",
            "{'Exposure': 'lol', 'Aperture': 'lol', 'ISO Speed': 'lol', 'Focal Length': 'lol'}\n",
            "{'Exposure': 'lol', 'Aperture': 'lol', 'ISO Speed': 'lol', 'Focal Length': 'lol'}\n",
            "{'Exposure': 'lol', 'Aperture': 'lol', 'ISO Speed': 'lol', 'Focal Length': 'lol'}\n",
            "{'Exposure': 'lol', 'Aperture': 'lol', 'ISO Speed': 'lol', 'Focal Length': 'lol'}\n",
            "{'Exposure': 'lol', 'Aperture': 'lol', 'ISO Speed': 'lol', 'Focal Length': 'lol'}\n",
            "{'Exposure': 'lol', 'Aperture': 'lol', 'ISO Speed': 'lol', 'Focal Length': 'lol'}\n",
            "{'Exposure': 'lol', 'Aperture': 'lol', 'ISO Speed': 'lol', 'Focal Length': 'lol'}\n",
            "{'Exposure': 'lol', 'Aperture': 'lol', 'ISO Speed': 'lol', 'Focal Length': 'lol'}\n",
            "{'Exposure': 'lol', 'Aperture': 'lol', 'ISO Speed': 'lol', 'Focal Length': 'lol'}\n",
            "{'Exposure': 'lol', 'Aperture': 'lol', 'ISO Speed': 'lol', 'Focal Length': 'lol'}\n",
            "{'Exposure': 'lol', 'Aperture': 'lol', 'ISO Speed': 'lol', 'Focal Length': 'lol'}\n",
            "{'Exposure': 'lol', 'Aperture': 'lol', 'ISO Speed': 'lol', 'Focal Length': 'lol'}\n",
            "{'Exposure': 'lol', 'Aperture': 'lol', 'ISO Speed': 'lol', 'Focal Length': 'lol'}\n",
            "{'Exposure': 'lol', 'Aperture': 'lol', 'ISO Speed': 'lol', 'Focal Length': 'lol'}\n",
            "{'Exposure': 'lol', 'Aperture': 'lol', 'ISO Speed': 'lol', 'Focal Length': 'lol'}\n",
            "{'Exposure': 'lol', 'Aperture': 'lol', 'ISO Speed': 'lol', 'Focal Length': 'lol'}\n",
            "{'Exposure': 'lol', 'Aperture': 'lol', 'ISO Speed': 'lol', 'Focal Length': 'lol'}\n",
            "{'Exposure': 'lol', 'Aperture': 'lol', 'ISO Speed': 'lol', 'Focal Length': 'lol'}\n",
            "{'Exposure': 'lol', 'Aperture': 'lol', 'ISO Speed': 'lol', 'Focal Length': 'lol'}\n",
            "{'Exposure': 'lol', 'Aperture': 'lol', 'ISO Speed': 'lol', 'Focal Length': 'lol'}\n",
            "{'Exposure': 'lol', 'Aperture': 'lol', 'ISO Speed': 'lol', 'Focal Length': 'lol'}\n",
            "{'Exposure': 'lol', 'Aperture': 'lol', 'ISO Speed': 'lol', 'Focal Length': 'lol'}\n",
            "{'Exposure': 'lol', 'Aperture': 'lol', 'ISO Speed': 'lol', 'Focal Length': 'lol'}\n",
            "{'Exposure': 'lol', 'Aperture': 'lol', 'ISO Speed': 'lol', 'Focal Length': 'lol'}\n",
            "{'Exposure': 'lol', 'Aperture': 'lol', 'ISO Speed': 'lol', 'Focal Length': 'lol'}\n",
            "{'Exposure': 'lol', 'Aperture': 'lol', 'ISO Speed': 'lol', 'Focal Length': 'lol'}\n",
            "{'Exposure': 'lol', 'Aperture': 'lol', 'ISO Speed': 'lol', 'Focal Length': 'lol'}\n",
            "{'Exposure': 'lol', 'Aperture': 'lol', 'ISO Speed': 'lol', 'Focal Length': 'lol'}\n",
            "{'Exposure': 'lol', 'Aperture': 'lol', 'ISO Speed': 'lol', 'Focal Length': 'lol'}\n",
            "{'Exposure': 'lol', 'Aperture': 'lol', 'ISO Speed': 'lol', 'Focal Length': 'lol'}\n",
            "{'Exposure': 'lol', 'Aperture': 'lol', 'ISO Speed': 'lol', 'Focal Length': 'lol'}\n",
            "{'Exposure': 'lol', 'Aperture': 'lol', 'ISO Speed': 'lol', 'Focal Length': 'lol'}\n",
            "{'Exposure': 'lol', 'Aperture': 'lol', 'ISO Speed': 'lol', 'Focal Length': 'lol'}\n",
            "{'Exposure': 'lol', 'Aperture': 'lol', 'ISO Speed': 'lol', 'Focal Length': 'lol'}\n",
            "{'Exposure': 'lol', 'Aperture': 'lol', 'ISO Speed': 'lol', 'Focal Length': 'lol'}\n",
            "{'Exposure': 'lol', 'Aperture': 'lol', 'ISO Speed': 'lol', 'Focal Length': 'lol'}\n",
            "{'Exposure': 'lol', 'Aperture': 'lol', 'ISO Speed': 'lol', 'Focal Length': 'lol'}\n",
            "{'Exposure': 'lol', 'Aperture': 'lol', 'ISO Speed': 'lol', 'Focal Length': 'lol'}\n",
            "{'Exposure': 'lol', 'Aperture': 'lol', 'ISO Speed': 'lol', 'Focal Length': 'lol'}\n",
            "{'Exposure': 'lol', 'Aperture': 'lol', 'ISO Speed': 'lol', 'Focal Length': 'lol'}\n",
            "{'Exposure': 'lol', 'Aperture': 'lol', 'ISO Speed': 'lol', 'Focal Length': 'lol'}\n",
            "{'Exposure': 'lol', 'Aperture': 'lol', 'ISO Speed': 'lol', 'Focal Length': 'lol'}\n",
            "{'Exposure': 'lol', 'Aperture': 'lol', 'ISO Speed': 'lol', 'Focal Length': 'lol'}\n",
            "{'Exposure': 'lol', 'Aperture': 'lol', 'ISO Speed': 'lol', 'Focal Length': 'lol'}\n",
            "{'Exposure': 'lol', 'Aperture': 'lol', 'ISO Speed': 'lol', 'Focal Length': 'lol'}\n",
            "{'Exposure': 'lol', 'Aperture': 'lol', 'ISO Speed': 'lol', 'Focal Length': 'lol'}\n",
            "{'Exposure': 'lol', 'Aperture': 'lol', 'ISO Speed': 'lol', 'Focal Length': 'lol'}\n",
            "{'Exposure': 'lol', 'Aperture': 'lol', 'ISO Speed': 'lol', 'Focal Length': 'lol'}\n",
            "{'Exposure': 'lol', 'Aperture': 'lol', 'ISO Speed': 'lol', 'Focal Length': 'lol'}\n",
            "{'Exposure': 'lol', 'Aperture': 'lol', 'ISO Speed': 'lol', 'Focal Length': 'lol'}\n",
            "{'Exposure': 'lol', 'Aperture': 'lol', 'ISO Speed': 'lol', 'Focal Length': 'lol'}\n",
            "{'Exposure': 'lol', 'Aperture': 'lol', 'ISO Speed': 'lol', 'Focal Length': 'lol'}\n",
            "{'Exposure': 'lol', 'Aperture': 'lol', 'ISO Speed': 'lol', 'Focal Length': 'lol'}\n",
            "{'Exposure': 'lol', 'Aperture': 'lol', 'ISO Speed': 'lol', 'Focal Length': 'lol'}\n",
            "{'Exposure': 'lol', 'Aperture': 'lol', 'ISO Speed': 'lol', 'Focal Length': 'lol'}\n",
            "{'Exposure': 'lol', 'Aperture': 'lol', 'ISO Speed': 'lol', 'Focal Length': 'lol'}\n",
            "{'Exposure': 'lol', 'Aperture': 'lol', 'ISO Speed': 'lol', 'Focal Length': 'lol'}\n",
            "{'Exposure': 'lol', 'Aperture': 'lol', 'ISO Speed': 'lol', 'Focal Length': 'lol'}\n",
            "{'Exposure': 'lol', 'Aperture': 'lol', 'ISO Speed': 'lol', 'Focal Length': 'lol'}\n",
            "{'Exposure': 'lol', 'Aperture': 'lol', 'ISO Speed': 'lol', 'Focal Length': 'lol'}\n",
            "{'Exposure': 'lol', 'Aperture': 'lol', 'ISO Speed': 'lol', 'Focal Length': 'lol'}\n",
            "{'Exposure': 'lol', 'Aperture': 'lol', 'ISO Speed': 'lol', 'Focal Length': 'lol'}\n",
            "{'Exposure': 'lol', 'Aperture': 'lol', 'ISO Speed': 'lol', 'Focal Length': 'lol'}\n",
            "{'Exposure': 'lol', 'Aperture': 'lol', 'ISO Speed': 'lol', 'Focal Length': 'lol'}\n",
            "{'Exposure': 'lol', 'Aperture': 'lol', 'ISO Speed': 'lol', 'Focal Length': 'lol'}\n",
            "{'Exposure': 'lol', 'Aperture': 'lol', 'ISO Speed': 'lol', 'Focal Length': 'lol'}\n",
            "{'Exposure': 'lol', 'Aperture': 'lol', 'ISO Speed': 'lol', 'Focal Length': 'lol'}\n",
            "{'Exposure': 'lol', 'Aperture': 'lol', 'ISO Speed': 'lol', 'Focal Length': 'lol'}\n",
            "{'Exposure': 'lol', 'Aperture': 'lol', 'ISO Speed': 'lol', 'Focal Length': 'lol'}\n",
            "{'Exposure': 'lol', 'Aperture': 'lol', 'ISO Speed': 'lol', 'Focal Length': 'lol'}\n",
            "{'Exposure': 'lol', 'Aperture': 'lol', 'ISO Speed': 'lol', 'Focal Length': 'lol'}\n",
            "{'Exposure': 'lol', 'Aperture': 'lol', 'ISO Speed': 'lol', 'Focal Length': 'lol'}\n",
            "{'Exposure': 'lol', 'Aperture': 'lol', 'ISO Speed': 'lol', 'Focal Length': 'lol'}\n",
            "{'Exposure': 'lol', 'Aperture': 'lol', 'ISO Speed': 'lol', 'Focal Length': 'lol'}\n",
            "{'Exposure': 'lol', 'Aperture': 'lol', 'ISO Speed': 'lol', 'Focal Length': 'lol'}\n",
            "{'Exposure': 'lol', 'Aperture': 'lol', 'ISO Speed': 'lol', 'Focal Length': 'lol'}\n",
            "{'Exposure': 'lol', 'Aperture': 'lol', 'ISO Speed': 'lol', 'Focal Length': 'lol'}\n",
            "{'Exposure': 'lol', 'Aperture': 'lol', 'ISO Speed': 'lol', 'Focal Length': 'lol'}\n",
            "{'Exposure': 'lol', 'Aperture': 'lol', 'ISO Speed': 'lol', 'Focal Length': 'lol'}\n",
            "{'Exposure': 'lol', 'Aperture': 'lol', 'ISO Speed': 'lol', 'Focal Length': 'lol'}\n",
            "{'Exposure': 'lol', 'Aperture': 'lol', 'ISO Speed': 'lol', 'Focal Length': 'lol'}\n",
            "{'Exposure': 'lol', 'Aperture': 'lol', 'ISO Speed': 'lol', 'Focal Length': 'lol'}\n",
            "{'Exposure': 'lol', 'Aperture': 'lol', 'ISO Speed': 'lol', 'Focal Length': 'lol'}\n",
            "{'Exposure': 'lol', 'Aperture': 'lol', 'ISO Speed': 'lol', 'Focal Length': 'lol'}\n",
            "{'Exposure': 'lol', 'Aperture': 'lol', 'ISO Speed': 'lol', 'Focal Length': 'lol'}\n",
            "{'Exposure': 'lol', 'Aperture': 'lol', 'ISO Speed': 'lol', 'Focal Length': 'lol'}\n",
            "{'Exposure': 'lol', 'Aperture': 'lol', 'ISO Speed': 'lol', 'Focal Length': 'lol'}\n",
            "{'Exposure': 'lol', 'Aperture': 'lol', 'ISO Speed': 'lol', 'Focal Length': 'lol'}\n",
            "{'Exposure': 'lol', 'Aperture': 'lol', 'ISO Speed': 'lol', 'Focal Length': 'lol'}\n",
            "{'Exposure': 'lol', 'Aperture': 'lol', 'ISO Speed': 'lol', 'Focal Length': 'lol'}\n",
            "{'Exposure': 'lol', 'Aperture': 'lol', 'ISO Speed': 'lol', 'Focal Length': 'lol'}\n",
            "{'Exposure': 'lol', 'Aperture': 'lol', 'ISO Speed': 'lol', 'Focal Length': 'lol'}\n",
            "{'Exposure': 'lol', 'Aperture': 'lol', 'ISO Speed': 'lol', 'Focal Length': 'lol'}\n",
            "{'Exposure': 'lol', 'Aperture': 'lol', 'ISO Speed': 'lol', 'Focal Length': 'lol'}\n",
            "{'Exposure': 'lol', 'Aperture': 'lol', 'ISO Speed': 'lol', 'Focal Length': 'lol'}\n",
            "{'Exposure': 'lol', 'Aperture': 'lol', 'ISO Speed': 'lol', 'Focal Length': 'lol'}\n",
            "{'Exposure': 'lol', 'Aperture': 'lol', 'ISO Speed': 'lol', 'Focal Length': 'lol'}\n",
            "{'Exposure': 'lol', 'Aperture': 'lol', 'ISO Speed': 'lol', 'Focal Length': 'lol'}\n",
            "{'Exposure': 'lol', 'Aperture': 'lol', 'ISO Speed': 'lol', 'Focal Length': 'lol'}\n",
            "{'Exposure': 'lol', 'Aperture': 'lol', 'ISO Speed': 'lol', 'Focal Length': 'lol'}\n",
            "{'Exposure': 'lol', 'Aperture': 'lol', 'ISO Speed': 'lol', 'Focal Length': 'lol'}\n",
            "{'Exposure': 'lol', 'Aperture': 'lol', 'ISO Speed': 'lol', 'Focal Length': 'lol'}\n",
            "{'Exposure': 'lol', 'Aperture': 'lol', 'ISO Speed': 'lol', 'Focal Length': 'lol'}\n",
            "{'Exposure': 'lol', 'Aperture': 'lol', 'ISO Speed': 'lol', 'Focal Length': 'lol'}\n",
            "{'Exposure': 'lol', 'Aperture': 'lol', 'ISO Speed': 'lol', 'Focal Length': 'lol'}\n",
            "{'Exposure': 'lol', 'Aperture': 'lol', 'ISO Speed': 'lol', 'Focal Length': 'lol'}\n",
            "{'Exposure': 'lol', 'Aperture': 'lol', 'ISO Speed': 'lol', 'Focal Length': 'lol'}\n",
            "{'Exposure': 'lol', 'Aperture': 'lol', 'ISO Speed': 'lol', 'Focal Length': 'lol'}\n",
            "{'Exposure': 'lol', 'Aperture': 'lol', 'ISO Speed': 'lol', 'Focal Length': 'lol'}\n",
            "{'Exposure': 'lol', 'Aperture': 'lol', 'ISO Speed': 'lol', 'Focal Length': 'lol'}\n",
            "{'Exposure': 'lol', 'Aperture': 'lol', 'ISO Speed': 'lol', 'Focal Length': 'lol'}\n",
            "{'Exposure': 'lol', 'Aperture': 'lol', 'ISO Speed': 'lol', 'Focal Length': 'lol'}\n",
            "{'Exposure': 'lol', 'Aperture': 'lol', 'ISO Speed': 'lol', 'Focal Length': 'lol'}\n",
            "{'Exposure': 'lol', 'Aperture': 'lol', 'ISO Speed': 'lol', 'Focal Length': 'lol'}\n",
            "{'Exposure': 'lol', 'Aperture': 'lol', 'ISO Speed': 'lol', 'Focal Length': 'lol'}\n",
            "{'Exposure': 'lol', 'Aperture': 'lol', 'ISO Speed': 'lol', 'Focal Length': 'lol'}\n",
            "{'Exposure': 'lol', 'Aperture': 'lol', 'ISO Speed': 'lol', 'Focal Length': 'lol'}\n",
            "{'Exposure': 'lol', 'Aperture': 'lol', 'ISO Speed': 'lol', 'Focal Length': 'lol'}\n",
            "{'Exposure': 'lol', 'Aperture': 'lol', 'ISO Speed': 'lol', 'Focal Length': 'lol'}\n",
            "{'Exposure': 'lol', 'Aperture': 'lol', 'ISO Speed': 'lol', 'Focal Length': 'lol'}\n",
            "{'Exposure': 'lol', 'Aperture': 'lol', 'ISO Speed': 'lol', 'Focal Length': 'lol'}\n",
            "{'Exposure': 'lol', 'Aperture': 'lol', 'ISO Speed': 'lol', 'Focal Length': 'lol'}\n",
            "{'Exposure': 'lol', 'Aperture': 'lol', 'ISO Speed': 'lol', 'Focal Length': 'lol'}\n",
            "{'Exposure': 'lol', 'Aperture': 'lol', 'ISO Speed': 'lol', 'Focal Length': 'lol'}\n",
            "{'Exposure': 'lol', 'Aperture': 'lol', 'ISO Speed': 'lol', 'Focal Length': 'lol'}\n",
            "{'Exposure': 'lol', 'Aperture': 'lol', 'ISO Speed': 'lol', 'Focal Length': 'lol'}\n",
            "{'Exposure': 'lol', 'Aperture': 'lol', 'ISO Speed': 'lol', 'Focal Length': 'lol'}\n",
            "[]\n",
            "[]\n",
            "[]\n",
            "[]\n"
          ],
          "name": "stdout"
        }
      ]
    },
    {
      "cell_type": "code",
      "metadata": {
        "id": "cl7DJalEJyxx",
        "colab": {
          "base_uri": "https://localhost:8080/"
        },
        "outputId": "ea51df5e-2e62-4025-e00e-3087c92ddde3"
      },
      "source": [
        "df = df.apply(pd.to_numeric, errors='coerce')\r\n",
        "df= df.dropna()\r\n",
        "\r\n",
        "print(df)"
      ],
      "execution_count": null,
      "outputs": [
        {
          "output_type": "stream",
          "text": [
            "      Exposure Time  Aperture  ISO Speed  Focal Length\n",
            "0             0.017  3.300000      100.0           6.4\n",
            "1             0.017  4.000000      400.0          22.0\n",
            "2             0.025  2.800000      100.0           4.7\n",
            "3             0.010  5.600000      200.0          32.0\n",
            "4             0.008  4.500000      200.0          18.0\n",
            "...             ...       ...        ...           ...\n",
            "6047          0.033  3.700000      400.0          53.0\n",
            "6048          0.001  4.500000      250.0          70.0\n",
            "6049          0.017  6.339850      200.0          18.0\n",
            "6050          0.001  3.700000      400.0           6.0\n",
            "6051          0.001  4.970856      400.0         300.0\n",
            "\n",
            "[5879 rows x 4 columns]\n"
          ],
          "name": "stdout"
        }
      ]
    },
    {
      "cell_type": "code",
      "metadata": {
        "colab": {
          "base_uri": "https://localhost:8080/",
          "height": 197
        },
        "id": "kMDQQ77Ud7l-",
        "outputId": "75fc8eb5-eca7-4b95-9a06-877cd4781376"
      },
      "source": [
        "#the whole process takes like 40 minutes so the df is saved here\r\n",
        "df.to_csv('data.csv')\r\n",
        "!cp data.csv \"drive/My Drive/\""
      ],
      "execution_count": null,
      "outputs": [
        {
          "output_type": "error",
          "ename": "NameError",
          "evalue": "ignored",
          "traceback": [
            "\u001b[0;31m---------------------------------------------------------------------------\u001b[0m",
            "\u001b[0;31mNameError\u001b[0m                                 Traceback (most recent call last)",
            "\u001b[0;32m<ipython-input-4-8d44dac56b2c>\u001b[0m in \u001b[0;36m<module>\u001b[0;34m()\u001b[0m\n\u001b[1;32m      1\u001b[0m \u001b[0;31m#the whole process takes like 40 minutes so the df is saved here\u001b[0m\u001b[0;34m\u001b[0m\u001b[0;34m\u001b[0m\u001b[0;34m\u001b[0m\u001b[0m\n\u001b[0;32m----> 2\u001b[0;31m \u001b[0mdf\u001b[0m\u001b[0;34m.\u001b[0m\u001b[0mto_csv\u001b[0m\u001b[0;34m(\u001b[0m\u001b[0;34m'data.csv'\u001b[0m\u001b[0;34m)\u001b[0m\u001b[0;34m\u001b[0m\u001b[0;34m\u001b[0m\u001b[0m\n\u001b[0m\u001b[1;32m      3\u001b[0m \u001b[0mget_ipython\u001b[0m\u001b[0;34m(\u001b[0m\u001b[0;34m)\u001b[0m\u001b[0;34m.\u001b[0m\u001b[0msystem\u001b[0m\u001b[0;34m(\u001b[0m\u001b[0;34m'cp data.csv \"drive/My Drive/\"'\u001b[0m\u001b[0;34m)\u001b[0m\u001b[0;34m\u001b[0m\u001b[0;34m\u001b[0m\u001b[0m\n",
            "\u001b[0;31mNameError\u001b[0m: name 'df' is not defined"
          ]
        }
      ]
    },
    {
      "cell_type": "code",
      "metadata": {
        "colab": {
          "base_uri": "https://localhost:8080/"
        },
        "id": "14ebybBoexHH",
        "outputId": "c9da624d-74eb-41ac-feb3-a6d5734c180b"
      },
      "source": [
        "df = pd.read_csv('/content/drive/My Drive/data.csv')\r\n",
        "df = df.set_index('Unnamed: 0')\r\n",
        "df = df.reset_index(drop=True)\r\n",
        "\r\n",
        "#a = np.array(df['Exposure Time'].values.tolist())\r\n",
        "#df['Exposure Time'] = np.where(a > 9, 2000, a).tolist()\r\n",
        "\r\n",
        "print(df)\r\n",
        "\r\n",
        "df = df.drop(df.loc[df['ISO Speed']>1600].index)\r\n",
        "df = df.drop(df.loc[df['Exposure Time']>20].index)\r\n",
        "#df = df.drop(df.loc[df['Aperture']>10].index)\r\n",
        "df = df.drop(df.loc[df['Focal Length']>100].index)\r\n",
        "print(df)\r\n",
        "\r\n",
        "print('Focal Length frequencies:-')\r\n",
        "print(df['Focal Length'].value_counts())\r\n",
        "\r\n",
        "print('Exposure frequencies:-')\r\n",
        "df['Exposure Time'] = df['Exposure Time'].round(decimals=0)\r\n",
        "print(df['Exposure Time'].value_counts())\r\n",
        "\r\n",
        "print('Aperture frequencies:-')\r\n",
        "df['Aperture'] = df['Aperture'].round(decimals=1)\r\n",
        "print(df['Aperture'].value_counts())\r\n",
        "\r\n",
        "print('ISO frequencies:-')\r\n",
        "df['ISO Speed'] = (df['ISO Speed'] / 100).apply(np.floor).astype(float) *100\r\n",
        "df['ISO Speed'] = df['ISO Speed'].replace([900], [1000])\r\n",
        "print(df['ISO Speed'].value_counts())"
      ],
      "execution_count": null,
      "outputs": [
        {
          "output_type": "stream",
          "text": [
            "      Exposure Time  Aperture  ISO Speed  Focal Length\n",
            "0             0.017  3.300000      100.0           6.4\n",
            "1             0.017  4.000000      400.0          22.0\n",
            "2             0.025  2.800000      100.0           4.7\n",
            "3             0.010  5.600000      200.0          32.0\n",
            "4             0.008  4.500000      200.0          18.0\n",
            "...             ...       ...        ...           ...\n",
            "5874          0.033  3.700000      400.0          53.0\n",
            "5875          0.001  4.500000      250.0          70.0\n",
            "5876          0.017  6.339850      200.0          18.0\n",
            "5877          0.001  3.700000      400.0           6.0\n",
            "5878          0.001  4.970856      400.0         300.0\n",
            "\n",
            "[5879 rows x 4 columns]\n",
            "      Exposure Time  Aperture  ISO Speed  Focal Length\n",
            "0             0.017  3.300000      100.0           6.4\n",
            "1             0.017  4.000000      400.0          22.0\n",
            "2             0.025  2.800000      100.0           4.7\n",
            "3             0.010  5.600000      200.0          32.0\n",
            "4             0.008  4.500000      200.0          18.0\n",
            "...             ...       ...        ...           ...\n",
            "5873          0.001  4.811985      200.0          95.0\n",
            "5874          0.033  3.700000      400.0          53.0\n",
            "5875          0.001  4.500000      250.0          70.0\n",
            "5876          0.017  6.339850      200.0          18.0\n",
            "5877          0.001  3.700000      400.0           6.0\n",
            "\n",
            "[5266 rows x 4 columns]\n",
            "Focal Length frequencies:-\n",
            "50.0    487\n",
            "18.0    390\n",
            "6.3     294\n",
            "6.0     170\n",
            "55.0    160\n",
            "       ... \n",
            "48.5      1\n",
            "8.3       1\n",
            "22.4      1\n",
            "42.9      1\n",
            "12.5      1\n",
            "Name: Focal Length, Length: 341, dtype: int64\n",
            "Exposure frequencies:-\n",
            "0.0     4957\n",
            "1.0      100\n",
            "2.0       55\n",
            "4.0       25\n",
            "3.0       23\n",
            "15.0      17\n",
            "10.0      17\n",
            "5.0       15\n",
            "8.0       14\n",
            "20.0      14\n",
            "6.0       11\n",
            "13.0       8\n",
            "9.0        5\n",
            "7.0        2\n",
            "16.0       2\n",
            "14.0       1\n",
            "Name: Exposure Time, dtype: int64\n",
            "Aperture frequencies:-\n",
            "2.8    485\n",
            "3.0    412\n",
            "4.0    396\n",
            "5.0    329\n",
            "5.6    244\n",
            "      ... \n",
            "9.2      1\n",
            "9.6      1\n",
            "7.7      1\n",
            "7.3      1\n",
            "6.8      1\n",
            "Name: Aperture, Length: 93, dtype: int64\n",
            "ISO frequencies:-\n",
            "100.0     1878\n",
            "200.0     1095\n",
            "400.0      769\n",
            "0.0        718\n",
            "800.0      353\n",
            "1600.0     213\n",
            "300.0      114\n",
            "500.0       36\n",
            "600.0       32\n",
            "1200.0      25\n",
            "1000.0      24\n",
            "700.0        5\n",
            "1100.0       3\n",
            "1400.0       1\n",
            "Name: ISO Speed, dtype: int64\n"
          ],
          "name": "stdout"
        }
      ]
    },
    {
      "cell_type": "code",
      "metadata": {
        "colab": {
          "base_uri": "https://localhost:8080/"
        },
        "id": "pkUP6J-EM8df",
        "outputId": "4e0ac4c9-b22e-4a44-d965-295b083f2143"
      },
      "source": [
        "#load csv file if needed\r\n",
        "y = df['ISO Speed']\r\n",
        "x = df.drop(columns = 'ISO Speed')\r\n",
        "#x = x.drop(columns = 'Aperture')\r\n",
        "\r\n",
        "x_train, x_test, y_train, y_test = train_test_split(x, y, test_size=0.2, \r\n",
        "                                                    random_state=1) \r\n",
        "reg = linear_model.LinearRegression()\r\n",
        "\r\n",
        "reg.fit(x_train, y_train) \r\n",
        "\r\n",
        "preds = reg.predict(x_test)\r\n",
        "\r\n",
        "print(x_test)\r\n",
        "print('Slope:' ,reg.coef_)\r\n",
        "print('Intercept:', reg.intercept_)\r\n",
        "print('Mean error: {}'.format(metrics.mean_absolute_error(y_test, preds)))\r\n",
        "print('Variance score: {}'.format(reg.score(x_test, y_test)))"
      ],
      "execution_count": null,
      "outputs": [
        {
          "output_type": "stream",
          "text": [
            "      Exposure Time  Aperture  Focal Length\n",
            "3992           13.0      10.0          18.0\n",
            "5409            0.0       8.3          50.0\n",
            "3397            0.0       6.0          17.0\n",
            "5413            0.0       6.6          18.0\n",
            "4761            0.0       5.1          15.3\n",
            "...             ...       ...           ...\n",
            "956             0.0       3.0          50.0\n",
            "2404            0.0      13.0          17.0\n",
            "4236            0.0       7.4          10.0\n",
            "253             0.0       6.0          18.0\n",
            "5120            0.0       6.0          18.0\n",
            "\n",
            "[538 rows x 3 columns]\n",
            "Slope: [ -9.26808697 -13.38807199   1.44022139]\n",
            "Intercept: 512.9071176716714\n",
            "Mean error: 336.7329823789892\n",
            "Variance score: 0.007889313551797006\n"
          ],
          "name": "stdout"
        }
      ]
    },
    {
      "cell_type": "code",
      "metadata": {
        "colab": {
          "base_uri": "https://localhost:8080/",
          "height": 513
        },
        "id": "23h6aePMk7f-",
        "outputId": "a50c3244-cfb7-4392-c932-64d54d3e48ef"
      },
      "source": [
        "import matplotlib.pyplot as plt\r\n",
        "\r\n",
        "# predicted values\r\n",
        "plt.plot(x_test, preds, color='r')\r\n",
        "plt.show()\r\n",
        "plt.plot(x_test, y_test, color='b')\r\n",
        "plt.show()"
      ],
      "execution_count": null,
      "outputs": [
        {
          "output_type": "display_data",
          "data": {
            "image/png": "[encoded data removed]",
            "text/plain": [
              "<Figure size 432x288 with 1 Axes>"
            ]
          },
          "metadata": {
            "tags": [],
            "needs_background": "light"
          }
        },
        {
          "output_type": "display_data",
          "data": {
            "image/png": "[encoded data removed]",
            "text/plain": [
              "<Figure size 432x288 with 1 Axes>"
            ]
          },
          "metadata": {
            "tags": [],
            "needs_background": "light"
          }
        }
      ]
    },
    {
      "cell_type": "code",
      "metadata": {
        "colab": {
          "base_uri": "https://localhost:8080/"
        },
        "id": "8ZL75cRW4Q2L",
        "outputId": "d8a854ce-d2c9-4392-fc03-e827217a4cfb"
      },
      "source": [
        "exps=[0, 0, 0]\r\n",
        "aps=[11.0, 3.0, 2.0]\r\n",
        "isos=[200.0, 100.0, 1600.0]\r\n",
        "focs=[41.0, 16.0, 50.0]\r\n",
        "df = pd.DataFrame({\r\n",
        "      'Exposure Time': exps,\r\n",
        "      'Aperture': aps,\r\n",
        "      'ISO Speed': isos,\r\n",
        "      'Focal Length': focs\r\n",
        "  })\r\n",
        "\r\n",
        "print(df)\r\n",
        "\r\n",
        "b = df['ISO Speed']\r\n",
        "#a = df.drop(columns = 'Focal Length')\r\n",
        "a = df.drop(columns = 'ISO Speed')\r\n",
        "\r\n",
        "a_train, a_test, b_train, b_test = train_test_split(a, b, test_size=0.1, \r\n",
        "                                                    random_state=1) \r\n",
        "print(a_train)\r\n",
        "print(a_test)\r\n",
        "\r\n",
        "lulz = reg.predict(a_train)\r\n",
        "\r\n",
        "print(lulz)\r\n",
        "print(b_train)"
      ],
      "execution_count": null,
      "outputs": [
        {
          "output_type": "stream",
          "text": [
            "   Exposure Time  Aperture  ISO Speed  Focal Length\n",
            "0              0      11.0      200.0          41.0\n",
            "1              0       3.0      100.0          16.0\n",
            "2              0       2.0     1600.0          50.0\n",
            "   Exposure Time  Aperture  Focal Length\n",
            "2              0       2.0          50.0\n",
            "1              0       3.0          16.0\n",
            "   Exposure Time  Aperture  Focal Length\n",
            "0              0      11.0          41.0\n",
            "[378.56888292 254.38376889]\n",
            "2    1600.0\n",
            "1     100.0\n",
            "Name: ISO Speed, dtype: float64\n"
          ],
          "name": "stdout"
        }
      ]
    },
    {
      "cell_type": "code",
      "metadata": {
        "colab": {
          "base_uri": "https://localhost:8080/"
        },
        "id": "CJEYmdiSPhXe",
        "outputId": "53b8abf4-a9d4-4e05-89a3-eaf03651f0c2"
      },
      "source": [
        "from sklearn.svm import SVR\r\n",
        "regressor = SVR(kernel = 'rbf')\r\n",
        "regressor.fit(x_train, y_train)\r\n",
        "y_pred = regressor.predict(x_test)\r\n",
        "print('Mean error: {}'.format(metrics.mean_absolute_error(y_test, y_pred)))\r\n",
        "print('Variance score: {}'.format(regressor.score(x_test, y_test)))"
      ],
      "execution_count": null,
      "outputs": [
        {
          "output_type": "stream",
          "text": [
            "Mean error: 201.20960094321774\n",
            "Variance score: -0.10615567201782272\n"
          ],
          "name": "stdout"
        }
      ]
    },
    {
      "cell_type": "code",
      "metadata": {
        "colab": {
          "base_uri": "https://localhost:8080/"
        },
        "id": "Sg3PYtTflb7i",
        "outputId": "bf6d2686-9376-42f3-9475-ab5f24b2923b"
      },
      "source": [
        "from sklearn.ensemble import RandomForestRegressor\r\n",
        "regressor = RandomForestRegressor(n_estimators = 10, random_state = 0)\r\n",
        "regressor.fit(x_train, y_train)\r\n",
        "y_pred = regressor.predict(x_test)\r\n",
        "print('Mean error: {}'.format(metrics.mean_absolute_error(y_test, y_pred)))\r\n",
        "print('Variance score: {}'.format(regressor.score(x_test, y_test)))"
      ],
      "execution_count": null,
      "outputs": [
        {
          "output_type": "stream",
          "text": [
            "Mean error: 357.99424721842894\n",
            "Variance score: -0.154534351224316\n"
          ],
          "name": "stdout"
        }
      ]
    },
    {
      "cell_type": "code",
      "metadata": {
        "id": "V8EuJE-4al0r"
      },
      "source": [
        "#STEALING FROM BIG ONE\r\n",
        "import re\r\n",
        "import requests\r\n",
        "from bs4 import BeautifulSoup\r\n",
        "from PIL import Image, ExifTags\r\n",
        "from io import BytesIO\r\n",
        "\r\n",
        "site = 'http://data.csail.mit.edu/graphics/fivek/'\r\n",
        "response = requests.get(site)\r\n",
        "\r\n",
        "soup = BeautifulSoup(response.text, 'html.parser')\r\n",
        "\r\n"
      ],
      "execution_count": null,
      "outputs": []
    },
    {
      "cell_type": "code",
      "metadata": {
        "colab": {
          "base_uri": "https://localhost:8080/"
        },
        "id": "ak0VTi5Ar4_Z",
        "outputId": "49b5a3f9-cada-4c19-bd27-96b5a28a5786"
      },
      "source": [
        "containers = soup.findAll('td')\r\n",
        "fnums = []\r\n",
        "shutters = []\r\n",
        "isos = []\r\n",
        "focs = []\r\n",
        "for i in containers:\r\n",
        "  if 'EXIF:' in i: \r\n",
        "    vals = [j for j in i]\r\n",
        "    vals = vals[-1].split(' ')\r\n",
        "    print(vals)\r\n",
        "    break\r\n",
        "    fnum = shutter = iso = foc = 'lol'\r\n",
        "    for j in vals:\r\n",
        "      if 'F/' in j:\r\n",
        "        fnum = float(j[2:])\r\n",
        "      elif '1/' in j:\r\n",
        "        num = float(j[0])\r\n",
        "        den = float(j[2:])\r\n",
        "        if j =='1/0':\r\n",
        "          continue\r\n",
        "        shutter = float(num/den)\r\n",
        "      elif 'ISO' in j:\r\n",
        "        iso = float(j[3:])\r\n",
        "      elif 'mm' in j:\r\n",
        "        foc = float(j[:-2])\r\n",
        "    \r\n",
        "    if fnum!='lol' and shutter!='lol' and iso!='lol' and foc!='lol':\r\n",
        "      fnums.append(fnum)\r\n",
        "      shutters.append(shutter)\r\n",
        "      isos.append(iso)\r\n",
        "      focs.append(foc)\r\n",
        "\r\n",
        "print(fnums)\r\n",
        "print(shutters)\r\n",
        "print(isos)\r\n",
        "print(focs)    \r\n"
      ],
      "execution_count": null,
      "outputs": [
        {
          "output_type": "stream",
          "text": [
            "['NIKON', 'D70', '30mm', 'F/10.0', '1/400', 'ISO200', '6.0MP']\n",
            "[]\n",
            "[]\n",
            "[]\n",
            "[]\n"
          ],
          "name": "stdout"
        }
      ]
    },
    {
      "cell_type": "code",
      "metadata": {
        "id": "EYR0_1JHzrB7"
      },
      "source": [
        "import pandas as pd\r\n",
        "import numpy as np\r\n",
        "import matplotlib.pyplot as plt\r\n",
        "from sklearn import datasets, linear_model, metrics \r\n",
        "from sklearn.model_selection import train_test_split "
      ],
      "execution_count": null,
      "outputs": []
    },
    {
      "cell_type": "code",
      "metadata": {
        "colab": {
          "base_uri": "https://localhost:8080/"
        },
        "id": "9gM7Oad802Uj",
        "outputId": "bc586e2d-269d-42af-863e-96b303ffef0c"
      },
      "source": [
        "df = pd.DataFrame({\r\n",
        "    'Focal Length': focs,\r\n",
        "    'Shutter Speed': shutters,\r\n",
        "    'ISO': isos\r\n",
        "})\r\n",
        "\r\n",
        "df = df.apply(pd.to_numeric, errors='coerce')\r\n",
        "df= df.dropna()\r\n",
        "\r\n",
        "print(df)"
      ],
      "execution_count": null,
      "outputs": [
        {
          "output_type": "stream",
          "text": [
            "      Focal Length  Shutter Speed     ISO\n",
            "0             30.0       0.002500   200.0\n",
            "1             50.0       0.040000  2000.0\n",
            "2             34.0       0.008000   100.0\n",
            "3             48.0       0.004000   200.0\n",
            "4             75.0       0.001333   200.0\n",
            "...            ...            ...     ...\n",
            "1681         450.0       0.002857   200.0\n",
            "1682          35.0       0.012500   100.0\n",
            "1683          70.0       0.010000   200.0\n",
            "1684          43.0       0.333333  1600.0\n",
            "1685          16.0       0.003125   200.0\n",
            "\n",
            "[1686 rows x 3 columns]\n"
          ],
          "name": "stdout"
        }
      ]
    },
    {
      "cell_type": "code",
      "metadata": {
        "colab": {
          "base_uri": "https://localhost:8080/",
          "height": 282
        },
        "id": "Tho3OpNF3Gn_",
        "outputId": "306ab0d0-0c10-443b-d12d-ebf1a88257f5"
      },
      "source": [
        "plt.scatter(df['Focal Length'], df['ISO'])"
      ],
      "execution_count": null,
      "outputs": [
        {
          "output_type": "execute_result",
          "data": {
            "text/plain": [
              "<matplotlib.collections.PathCollection at 0x7f8db4f23810>"
            ]
          },
          "metadata": {
            "tags": []
          },
          "execution_count": 20
        },
        {
          "output_type": "display_data",
          "data": {
            "image/png": "[encoded data removed]",
            "text/plain": [
              "<Figure size 432x288 with 1 Axes>"
            ]
          },
          "metadata": {
            "tags": [],
            "needs_background": "light"
          }
        }
      ]
    },
    {
      "cell_type": "code",
      "metadata": {
        "colab": {
          "base_uri": "https://localhost:8080/",
          "height": 282
        },
        "id": "sxP6DbI13xgO",
        "outputId": "8afe7dfd-dbc0-4624-ac19-d005c034ffa4"
      },
      "source": [
        "plt.scatter(df['Shutter Speed'], df['ISO'])"
      ],
      "execution_count": null,
      "outputs": [
        {
          "output_type": "execute_result",
          "data": {
            "text/plain": [
              "<matplotlib.collections.PathCollection at 0x7f8db398c390>"
            ]
          },
          "metadata": {
            "tags": []
          },
          "execution_count": 21
        },
        {
          "output_type": "display_data",
          "data": {
            "image/png": "[encoded data removed]",
            "text/plain": [
              "<Figure size 432x288 with 1 Axes>"
            ]
          },
          "metadata": {
            "tags": [],
            "needs_background": "light"
          }
        }
      ]
    },
    {
      "cell_type": "code",
      "metadata": {
        "colab": {
          "base_uri": "https://localhost:8080/"
        },
        "id": "NmrUiJc_62dc",
        "outputId": "a6170d44-f07a-4b13-e9e8-69b4bb12a624"
      },
      "source": [
        "y = df['ISO']\r\n",
        "x = df.drop(columns = 'ISO')\r\n",
        "\r\n",
        "x_train, x_test, y_train, y_test = train_test_split(x, y, test_size=0.4, \r\n",
        "                                                    random_state=1) \r\n",
        "reg = linear_model.LinearRegression()\r\n",
        "\r\n",
        "reg.fit(x_train, y_train) \r\n",
        "\r\n",
        "preds = reg.predict(x_test)\r\n",
        "\r\n",
        "print(metrics.mean_squared_error(y_test, preds))\r\n",
        "print(metrics.r2_score(y_test, preds))\r\n",
        "print('Variance score: {}'.format(reg.score(x_test, y_test))) "
      ],
      "execution_count": null,
      "outputs": [
        {
          "output_type": "stream",
          "text": [
            "267992.5143277727\n",
            "-0.02262165979624542\n",
            "Variance score: -0.02262165979624542\n"
          ],
          "name": "stdout"
        }
      ]
    }
  ]
}